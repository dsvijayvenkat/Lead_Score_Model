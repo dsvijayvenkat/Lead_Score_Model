{
 "cells": [
  {
   "cell_type": "markdown",
   "id": "9c511ae4",
   "metadata": {},
   "source": [
    "### Lead Scoring Model"
   ]
  },
  {
   "cell_type": "markdown",
   "id": "7a0f5e9a",
   "metadata": {},
   "source": [
    "Problem: Lead Scoring Model\n",
    "\n",
    "Selling something is not an easy task. A business might have many potential customers, commonly referred as leads, but not enough resources to cater them all. Even most of the leads won’t turn into actual bookings. So there is a need for a system that prioritises the leads, and sorts them on the basis of a score, referred to here as lead score. So whenever a new lead is generated, this system analyses the features of the lead and gives it a score that correlates with chances of it being converted into booking. Such ranking of potential customers not only helps in saving time but also helps in increasing the conversion rate by letting the sales team figure out what leads to spend time on.\n",
    "\n",
    "Here you have a dataset of leads with their set of features and their status. You have to build a ML model that predicts the lead score as an OUTPUT on the basis of the INPUT set of features. This lead score will range from 0-100, so more the lead score means more chances of conversion of lead to WON.\n",
    "\n",
    "NOTE: The leads with STATUS other than ‘WON’ or ‘LOST’ can be dropped during training.\n",
    "\n",
    "NOTE: Treat all columns as CATEGORICAL columns\n",
    "\n",
    "NOTE: \n",
    "\n",
    "This '9b2d5b4678781e53038e91ea5324530a03f27dc1d0e5f6c9bc9d493a23be9de0' represents NaN and could be present in more than one column.\n",
    "\n",
    "Steps should be:\n",
    "\n",
    "Data Cleaning ( including Feature Selection)\n",
    "Training ( on Y percent of data)\n",
    "Testing ( on (100-Y) percent of data)\n",
    "Evaluate the performance using metrics such as accuracy, precision, recall and F1-score."
   ]
  },
  {
   "cell_type": "code",
   "execution_count": 1,
   "id": "abd2d50f",
   "metadata": {},
   "outputs": [],
   "source": [
    "# importing required libraries\n",
    "import pandas as pd\n",
    "import numpy as np\n",
    "import seaborn as sns\n",
    "import matplotlib.pyplot as plt\n",
    "import re\n",
    "import warnings\n",
    "warnings.filterwarnings(\"ignore\")"
   ]
  },
  {
   "cell_type": "code",
   "execution_count": 2,
   "id": "eabe2e64",
   "metadata": {},
   "outputs": [],
   "source": [
    "# Loading the dataset from local drive\n",
    "data  = pd.read_csv(r\"C:\\PYTHON\\PANDAS\\data_science_internship_dump.csv\")\n",
    "df = data.loc[:,~data.columns.str.match(\"Unnamed\")] # To remove Unnamed columms"
   ]
  },
  {
   "cell_type": "code",
   "execution_count": 3,
   "id": "1736ff9b",
   "metadata": {},
   "outputs": [
    {
     "data": {
      "text/html": [
       "<div>\n",
       "<style scoped>\n",
       "    .dataframe tbody tr th:only-of-type {\n",
       "        vertical-align: middle;\n",
       "    }\n",
       "\n",
       "    .dataframe tbody tr th {\n",
       "        vertical-align: top;\n",
       "    }\n",
       "\n",
       "    .dataframe thead th {\n",
       "        text-align: right;\n",
       "    }\n",
       "</style>\n",
       "<table border=\"1\" class=\"dataframe\">\n",
       "  <thead>\n",
       "    <tr style=\"text-align: right;\">\n",
       "      <th></th>\n",
       "      <th>Agent_id</th>\n",
       "      <th>status</th>\n",
       "      <th>lost_reason</th>\n",
       "      <th>budget</th>\n",
       "      <th>lease</th>\n",
       "      <th>movein</th>\n",
       "      <th>source</th>\n",
       "      <th>source_city</th>\n",
       "      <th>source_country</th>\n",
       "      <th>utm_source</th>\n",
       "      <th>utm_medium</th>\n",
       "      <th>des_city</th>\n",
       "      <th>des_country</th>\n",
       "      <th>room_type</th>\n",
       "      <th>lead_id</th>\n",
       "    </tr>\n",
       "  </thead>\n",
       "  <tbody>\n",
       "    <tr>\n",
       "      <th>0</th>\n",
       "      <td>1deba9e96f404694373de9749ddd1ca8aa7bb823145a6f...</td>\n",
       "      <td>LOST</td>\n",
       "      <td>Not responding</td>\n",
       "      <td>NaN</td>\n",
       "      <td>NaN</td>\n",
       "      <td>NaN</td>\n",
       "      <td>9b2d5b4678781e53038e91ea5324530a03f27dc1d0e5f6...</td>\n",
       "      <td>9b2d5b4678781e53038e91ea5324530a03f27dc1d0e5f6...</td>\n",
       "      <td>9b2d5b4678781e53038e91ea5324530a03f27dc1d0e5f6...</td>\n",
       "      <td>3d59f7548e1af2151b64135003ce63c0a484c26b9b8b16...</td>\n",
       "      <td>268ad70eb5bc4737a2ae28162cbca30118cc94520e49ef...</td>\n",
       "      <td>ecc0e7dc084f141b29479058967d0bc07dee25d9690a98...</td>\n",
       "      <td>8d23a6e37e0a6431a8f1b43a91026dcff51170a89a6512...</td>\n",
       "      <td>NaN</td>\n",
       "      <td>cd5dc0d9393f3980d11d4ba6f88f8110c2b7a7f7796307...</td>\n",
       "    </tr>\n",
       "    <tr>\n",
       "      <th>1</th>\n",
       "      <td>299ae77a4ef350ae0dd37d6bba1c002d03444fb1edb236...</td>\n",
       "      <td>LOST</td>\n",
       "      <td>Low budget</td>\n",
       "      <td>NaN</td>\n",
       "      <td>NaN</td>\n",
       "      <td>NaN</td>\n",
       "      <td>9b2d5b4678781e53038e91ea5324530a03f27dc1d0e5f6...</td>\n",
       "      <td>9b2d5b4678781e53038e91ea5324530a03f27dc1d0e5f6...</td>\n",
       "      <td>9b2d5b4678781e53038e91ea5324530a03f27dc1d0e5f6...</td>\n",
       "      <td>3d59f7548e1af2151b64135003ce63c0a484c26b9b8b16...</td>\n",
       "      <td>268ad70eb5bc4737a2ae28162cbca30118cc94520e49ef...</td>\n",
       "      <td>5372372f3bf5896820cb2819300c3e681820d82c6efc54...</td>\n",
       "      <td>8d23a6e37e0a6431a8f1b43a91026dcff51170a89a6512...</td>\n",
       "      <td>NaN</td>\n",
       "      <td>b94693673a5f7178d1b114e4004ad52377d3244dd24a3d...</td>\n",
       "    </tr>\n",
       "    <tr>\n",
       "      <th>2</th>\n",
       "      <td>c213697430c006013012dd2aca82dd9732aa0a1a6bca13...</td>\n",
       "      <td>LOST</td>\n",
       "      <td>Not responding</td>\n",
       "      <td>£121 - £180 Per Week</td>\n",
       "      <td>Full Year Course Stay 40 - 44 weeks</td>\n",
       "      <td>31-08-2022</td>\n",
       "      <td>7aae3e886e89fc1187a5c47d6cea1c22998ee610ade1f2...</td>\n",
       "      <td>9b8cc3c63cdf447e463c11544924bf027945cbd29675f7...</td>\n",
       "      <td>e09e10e67812e9d236ad900e5d46b4308fc62f5d69446a...</td>\n",
       "      <td>bbdefa2950f49882f295b1285d4fa9dec45fc4144bfb07...</td>\n",
       "      <td>09076eb7665d1fb9389c7c4517fee0b00e43092eb34821...</td>\n",
       "      <td>11ab03a1a8c367191355c152f39fe28cae5e426fce49ef...</td>\n",
       "      <td>8d23a6e37e0a6431a8f1b43a91026dcff51170a89a6512...</td>\n",
       "      <td>Ensuite</td>\n",
       "      <td>96ea4e2bf04496c044745938c0299c264c3f4ba079e572...</td>\n",
       "    </tr>\n",
       "    <tr>\n",
       "      <th>3</th>\n",
       "      <td>eac9815a500f908736d303e23aa227f0957177b0e6756b...</td>\n",
       "      <td>LOST</td>\n",
       "      <td>Low budget</td>\n",
       "      <td>0-0</td>\n",
       "      <td>0</td>\n",
       "      <td>NaN</td>\n",
       "      <td>ba2d0a29556ac20f86f45e4543c0825428cba33fd7a9ea...</td>\n",
       "      <td>a5f0d2d08eb0592087e3a3a2f9c1ba2c67cc30f2efd2bd...</td>\n",
       "      <td>e09e10e67812e9d236ad900e5d46b4308fc62f5d69446a...</td>\n",
       "      <td>bbdefa2950f49882f295b1285d4fa9dec45fc4144bfb07...</td>\n",
       "      <td>09076eb7665d1fb9389c7c4517fee0b00e43092eb34821...</td>\n",
       "      <td>19372fa44c57a01c37a5a8418779ca3d99b0b59731fb35...</td>\n",
       "      <td>8d23a6e37e0a6431a8f1b43a91026dcff51170a89a6512...</td>\n",
       "      <td>NaN</td>\n",
       "      <td>1d2b34d8add02a182a4129023766ca4585a8ddced0e5b3...</td>\n",
       "    </tr>\n",
       "  </tbody>\n",
       "</table>\n",
       "</div>"
      ],
      "text/plain": [
       "                                            Agent_id status     lost_reason  \\\n",
       "0  1deba9e96f404694373de9749ddd1ca8aa7bb823145a6f...   LOST  Not responding   \n",
       "1  299ae77a4ef350ae0dd37d6bba1c002d03444fb1edb236...   LOST      Low budget   \n",
       "2  c213697430c006013012dd2aca82dd9732aa0a1a6bca13...   LOST  Not responding   \n",
       "3  eac9815a500f908736d303e23aa227f0957177b0e6756b...   LOST      Low budget   \n",
       "\n",
       "                 budget                                lease      movein  \\\n",
       "0                   NaN                                  NaN         NaN   \n",
       "1                   NaN                                  NaN         NaN   \n",
       "2  £121 - £180 Per Week  Full Year Course Stay 40 - 44 weeks  31-08-2022   \n",
       "3                   0-0                                    0         NaN   \n",
       "\n",
       "                                              source  \\\n",
       "0  9b2d5b4678781e53038e91ea5324530a03f27dc1d0e5f6...   \n",
       "1  9b2d5b4678781e53038e91ea5324530a03f27dc1d0e5f6...   \n",
       "2  7aae3e886e89fc1187a5c47d6cea1c22998ee610ade1f2...   \n",
       "3  ba2d0a29556ac20f86f45e4543c0825428cba33fd7a9ea...   \n",
       "\n",
       "                                         source_city  \\\n",
       "0  9b2d5b4678781e53038e91ea5324530a03f27dc1d0e5f6...   \n",
       "1  9b2d5b4678781e53038e91ea5324530a03f27dc1d0e5f6...   \n",
       "2  9b8cc3c63cdf447e463c11544924bf027945cbd29675f7...   \n",
       "3  a5f0d2d08eb0592087e3a3a2f9c1ba2c67cc30f2efd2bd...   \n",
       "\n",
       "                                      source_country  \\\n",
       "0  9b2d5b4678781e53038e91ea5324530a03f27dc1d0e5f6...   \n",
       "1  9b2d5b4678781e53038e91ea5324530a03f27dc1d0e5f6...   \n",
       "2  e09e10e67812e9d236ad900e5d46b4308fc62f5d69446a...   \n",
       "3  e09e10e67812e9d236ad900e5d46b4308fc62f5d69446a...   \n",
       "\n",
       "                                          utm_source  \\\n",
       "0  3d59f7548e1af2151b64135003ce63c0a484c26b9b8b16...   \n",
       "1  3d59f7548e1af2151b64135003ce63c0a484c26b9b8b16...   \n",
       "2  bbdefa2950f49882f295b1285d4fa9dec45fc4144bfb07...   \n",
       "3  bbdefa2950f49882f295b1285d4fa9dec45fc4144bfb07...   \n",
       "\n",
       "                                          utm_medium  \\\n",
       "0  268ad70eb5bc4737a2ae28162cbca30118cc94520e49ef...   \n",
       "1  268ad70eb5bc4737a2ae28162cbca30118cc94520e49ef...   \n",
       "2  09076eb7665d1fb9389c7c4517fee0b00e43092eb34821...   \n",
       "3  09076eb7665d1fb9389c7c4517fee0b00e43092eb34821...   \n",
       "\n",
       "                                            des_city  \\\n",
       "0  ecc0e7dc084f141b29479058967d0bc07dee25d9690a98...   \n",
       "1  5372372f3bf5896820cb2819300c3e681820d82c6efc54...   \n",
       "2  11ab03a1a8c367191355c152f39fe28cae5e426fce49ef...   \n",
       "3  19372fa44c57a01c37a5a8418779ca3d99b0b59731fb35...   \n",
       "\n",
       "                                         des_country room_type  \\\n",
       "0  8d23a6e37e0a6431a8f1b43a91026dcff51170a89a6512...       NaN   \n",
       "1  8d23a6e37e0a6431a8f1b43a91026dcff51170a89a6512...       NaN   \n",
       "2  8d23a6e37e0a6431a8f1b43a91026dcff51170a89a6512...   Ensuite   \n",
       "3  8d23a6e37e0a6431a8f1b43a91026dcff51170a89a6512...       NaN   \n",
       "\n",
       "                                             lead_id  \n",
       "0  cd5dc0d9393f3980d11d4ba6f88f8110c2b7a7f7796307...  \n",
       "1  b94693673a5f7178d1b114e4004ad52377d3244dd24a3d...  \n",
       "2  96ea4e2bf04496c044745938c0299c264c3f4ba079e572...  \n",
       "3  1d2b34d8add02a182a4129023766ca4585a8ddced0e5b3...  "
      ]
     },
     "execution_count": 3,
     "metadata": {},
     "output_type": "execute_result"
    }
   ],
   "source": [
    "df.head(4)"
   ]
  },
  {
   "cell_type": "code",
   "execution_count": 4,
   "id": "62f92a73",
   "metadata": {},
   "outputs": [
    {
     "data": {
      "text/plain": [
       "(46608, 15)"
      ]
     },
     "execution_count": 4,
     "metadata": {},
     "output_type": "execute_result"
    }
   ],
   "source": [
    "# Getting the shape of the dataset\n",
    "df.shape"
   ]
  },
  {
   "cell_type": "markdown",
   "id": "4b34807f",
   "metadata": {},
   "source": [
    "###### Observation:\n",
    "We have 46608 rows and 15 columns in given dataset"
   ]
  },
  {
   "cell_type": "code",
   "execution_count": 5,
   "id": "fe085850",
   "metadata": {},
   "outputs": [
    {
     "data": {
      "text/plain": [
       "699120"
      ]
     },
     "execution_count": 5,
     "metadata": {},
     "output_type": "execute_result"
    }
   ],
   "source": [
    "# Getting size of the dataset\n",
    "df.size"
   ]
  },
  {
   "cell_type": "markdown",
   "id": "511ea0ea",
   "metadata": {},
   "source": [
    "##### Observation:\n",
    "\n",
    "We have 699120 cells data in given dataset"
   ]
  },
  {
   "cell_type": "code",
   "execution_count": 6,
   "id": "77c4cd33",
   "metadata": {},
   "outputs": [
    {
     "data": {
      "text/plain": [
       "Agent_id          object\n",
       "status            object\n",
       "lost_reason       object\n",
       "budget            object\n",
       "lease             object\n",
       "movein            object\n",
       "source            object\n",
       "source_city       object\n",
       "source_country    object\n",
       "utm_source        object\n",
       "utm_medium        object\n",
       "des_city          object\n",
       "des_country       object\n",
       "room_type         object\n",
       "lead_id           object\n",
       "dtype: object"
      ]
     },
     "execution_count": 6,
     "metadata": {},
     "output_type": "execute_result"
    }
   ],
   "source": [
    "# Getting data types of the dataset\n",
    "df.dtypes"
   ]
  },
  {
   "cell_type": "markdown",
   "id": "0dee99ed",
   "metadata": {},
   "source": [
    "#### Observation :\n",
    "\n",
    "Our dataset has all object type (categorical) of columns"
   ]
  },
  {
   "cell_type": "code",
   "execution_count": 7,
   "id": "35531519",
   "metadata": {},
   "outputs": [
    {
     "name": "stdout",
     "output_type": "stream",
     "text": [
      "<class 'pandas.core.frame.DataFrame'>\n",
      "RangeIndex: 46608 entries, 0 to 46607\n",
      "Data columns (total 15 columns):\n",
      " #   Column          Non-Null Count  Dtype \n",
      "---  ------          --------------  ----- \n",
      " 0   Agent_id        46608 non-null  object\n",
      " 1   status          46608 non-null  object\n",
      " 2   lost_reason     43244 non-null  object\n",
      " 3   budget          42908 non-null  object\n",
      " 4   lease           44267 non-null  object\n",
      " 5   movein          32970 non-null  object\n",
      " 6   source          46608 non-null  object\n",
      " 7   source_city     46608 non-null  object\n",
      " 8   source_country  46608 non-null  object\n",
      " 9   utm_source      46608 non-null  object\n",
      " 10  utm_medium      46608 non-null  object\n",
      " 11  des_city        46608 non-null  object\n",
      " 12  des_country     46608 non-null  object\n",
      " 13  room_type       23061 non-null  object\n",
      " 14  lead_id         46608 non-null  object\n",
      "dtypes: object(15)\n",
      "memory usage: 5.3+ MB\n"
     ]
    }
   ],
   "source": [
    "# Getting Metada information of the data set\n",
    "df.info()"
   ]
  },
  {
   "cell_type": "markdown",
   "id": "faf33bb8",
   "metadata": {},
   "source": [
    "##### Observation:\n",
    "\n",
    "From the above information we can observe that Non-Null count, and dtype and its count of corresponding variables and also memory usage of variables."
   ]
  },
  {
   "cell_type": "code",
   "execution_count": 8,
   "id": "a949a08a",
   "metadata": {},
   "outputs": [
    {
     "data": {
      "text/html": [
       "<div>\n",
       "<style scoped>\n",
       "    .dataframe tbody tr th:only-of-type {\n",
       "        vertical-align: middle;\n",
       "    }\n",
       "\n",
       "    .dataframe tbody tr th {\n",
       "        vertical-align: top;\n",
       "    }\n",
       "\n",
       "    .dataframe thead th {\n",
       "        text-align: right;\n",
       "    }\n",
       "</style>\n",
       "<table border=\"1\" class=\"dataframe\">\n",
       "  <thead>\n",
       "    <tr style=\"text-align: right;\">\n",
       "      <th></th>\n",
       "      <th>count</th>\n",
       "      <th>unique</th>\n",
       "      <th>top</th>\n",
       "      <th>freq</th>\n",
       "    </tr>\n",
       "  </thead>\n",
       "  <tbody>\n",
       "    <tr>\n",
       "      <th>Agent_id</th>\n",
       "      <td>46608</td>\n",
       "      <td>120</td>\n",
       "      <td>2fca346db656187102ce806ac732e06a62df0dbb2829e5...</td>\n",
       "      <td>8186</td>\n",
       "    </tr>\n",
       "    <tr>\n",
       "      <th>status</th>\n",
       "      <td>46608</td>\n",
       "      <td>6</td>\n",
       "      <td>LOST</td>\n",
       "      <td>43244</td>\n",
       "    </tr>\n",
       "    <tr>\n",
       "      <th>lost_reason</th>\n",
       "      <td>43244</td>\n",
       "      <td>30</td>\n",
       "      <td>Low availability</td>\n",
       "      <td>8892</td>\n",
       "    </tr>\n",
       "    <tr>\n",
       "      <th>budget</th>\n",
       "      <td>42908</td>\n",
       "      <td>1857</td>\n",
       "      <td>£60 - £120 Per week</td>\n",
       "      <td>9862</td>\n",
       "    </tr>\n",
       "    <tr>\n",
       "      <th>lease</th>\n",
       "      <td>44267</td>\n",
       "      <td>311</td>\n",
       "      <td>Full Year Course Stay 40 - 44 weeks</td>\n",
       "      <td>11111</td>\n",
       "    </tr>\n",
       "    <tr>\n",
       "      <th>movein</th>\n",
       "      <td>32970</td>\n",
       "      <td>477</td>\n",
       "      <td>10-09-2022</td>\n",
       "      <td>2453</td>\n",
       "    </tr>\n",
       "    <tr>\n",
       "      <th>source</th>\n",
       "      <td>46608</td>\n",
       "      <td>683</td>\n",
       "      <td>7aae3e886e89fc1187a5c47d6cea1c22998ee610ade1f2...</td>\n",
       "      <td>19306</td>\n",
       "    </tr>\n",
       "    <tr>\n",
       "      <th>source_city</th>\n",
       "      <td>46608</td>\n",
       "      <td>4336</td>\n",
       "      <td>9b2d5b4678781e53038e91ea5324530a03f27dc1d0e5f6...</td>\n",
       "      <td>8851</td>\n",
       "    </tr>\n",
       "    <tr>\n",
       "      <th>source_country</th>\n",
       "      <td>46608</td>\n",
       "      <td>186</td>\n",
       "      <td>e09e10e67812e9d236ad900e5d46b4308fc62f5d69446a...</td>\n",
       "      <td>18812</td>\n",
       "    </tr>\n",
       "    <tr>\n",
       "      <th>utm_source</th>\n",
       "      <td>46608</td>\n",
       "      <td>35</td>\n",
       "      <td>bbdefa2950f49882f295b1285d4fa9dec45fc4144bfb07...</td>\n",
       "      <td>31125</td>\n",
       "    </tr>\n",
       "    <tr>\n",
       "      <th>utm_medium</th>\n",
       "      <td>46608</td>\n",
       "      <td>64</td>\n",
       "      <td>09076eb7665d1fb9389c7c4517fee0b00e43092eb34821...</td>\n",
       "      <td>31761</td>\n",
       "    </tr>\n",
       "    <tr>\n",
       "      <th>des_city</th>\n",
       "      <td>46608</td>\n",
       "      <td>220</td>\n",
       "      <td>ecc0e7dc084f141b29479058967d0bc07dee25d9690a98...</td>\n",
       "      <td>7361</td>\n",
       "    </tr>\n",
       "    <tr>\n",
       "      <th>des_country</th>\n",
       "      <td>46608</td>\n",
       "      <td>15</td>\n",
       "      <td>8d23a6e37e0a6431a8f1b43a91026dcff51170a89a6512...</td>\n",
       "      <td>42674</td>\n",
       "    </tr>\n",
       "    <tr>\n",
       "      <th>room_type</th>\n",
       "      <td>23061</td>\n",
       "      <td>5</td>\n",
       "      <td>Ensuite</td>\n",
       "      <td>12477</td>\n",
       "    </tr>\n",
       "    <tr>\n",
       "      <th>lead_id</th>\n",
       "      <td>46608</td>\n",
       "      <td>30574</td>\n",
       "      <td>e741bdc636f2e99f2f83b31a64ff4b6d07f2b6a182d1cc...</td>\n",
       "      <td>2</td>\n",
       "    </tr>\n",
       "  </tbody>\n",
       "</table>\n",
       "</div>"
      ],
      "text/plain": [
       "                count unique  \\\n",
       "Agent_id        46608    120   \n",
       "status          46608      6   \n",
       "lost_reason     43244     30   \n",
       "budget          42908   1857   \n",
       "lease           44267    311   \n",
       "movein          32970    477   \n",
       "source          46608    683   \n",
       "source_city     46608   4336   \n",
       "source_country  46608    186   \n",
       "utm_source      46608     35   \n",
       "utm_medium      46608     64   \n",
       "des_city        46608    220   \n",
       "des_country     46608     15   \n",
       "room_type       23061      5   \n",
       "lead_id         46608  30574   \n",
       "\n",
       "                                                              top   freq  \n",
       "Agent_id        2fca346db656187102ce806ac732e06a62df0dbb2829e5...   8186  \n",
       "status                                                       LOST  43244  \n",
       "lost_reason                                      Low availability   8892  \n",
       "budget                                        £60 - £120 Per week   9862  \n",
       "lease                         Full Year Course Stay 40 - 44 weeks  11111  \n",
       "movein                                                 10-09-2022   2453  \n",
       "source          7aae3e886e89fc1187a5c47d6cea1c22998ee610ade1f2...  19306  \n",
       "source_city     9b2d5b4678781e53038e91ea5324530a03f27dc1d0e5f6...   8851  \n",
       "source_country  e09e10e67812e9d236ad900e5d46b4308fc62f5d69446a...  18812  \n",
       "utm_source      bbdefa2950f49882f295b1285d4fa9dec45fc4144bfb07...  31125  \n",
       "utm_medium      09076eb7665d1fb9389c7c4517fee0b00e43092eb34821...  31761  \n",
       "des_city        ecc0e7dc084f141b29479058967d0bc07dee25d9690a98...   7361  \n",
       "des_country     8d23a6e37e0a6431a8f1b43a91026dcff51170a89a6512...  42674  \n",
       "room_type                                                 Ensuite  12477  \n",
       "lead_id         e741bdc636f2e99f2f83b31a64ff4b6d07f2b6a182d1cc...      2  "
      ]
     },
     "execution_count": 8,
     "metadata": {},
     "output_type": "execute_result"
    }
   ],
   "source": [
    "# Getting Statistics of the given dataset\n",
    "df.describe().T"
   ]
  },
  {
   "cell_type": "markdown",
   "id": "f3879e6a",
   "metadata": {},
   "source": [
    "##### Observation:\n",
    "\n",
    "From the above information we can observe the count, Unique value, top, and frequency of corresponding variabe."
   ]
  },
  {
   "cell_type": "code",
   "execution_count": 9,
   "id": "74e9dde4",
   "metadata": {},
   "outputs": [
    {
     "data": {
      "text/plain": [
       "Agent_id              0\n",
       "status                0\n",
       "lost_reason        3364\n",
       "budget             3700\n",
       "lease              2341\n",
       "movein            13638\n",
       "source                0\n",
       "source_city           0\n",
       "source_country        0\n",
       "utm_source            0\n",
       "utm_medium            0\n",
       "des_city              0\n",
       "des_country           0\n",
       "room_type         23547\n",
       "lead_id               0\n",
       "dtype: int64"
      ]
     },
     "execution_count": 9,
     "metadata": {},
     "output_type": "execute_result"
    }
   ],
   "source": [
    "# Checking For Null values in given dataset\n",
    "df.isnull().sum()"
   ]
  },
  {
   "cell_type": "markdown",
   "id": "f4d7586a",
   "metadata": {},
   "source": [
    "##### Observation:\n",
    " The above information shows that some variables in the dataset has null values, they are : lost_reason, budget, lease, moviein, room_type."
   ]
  },
  {
   "cell_type": "markdown",
   "id": "b6285d35",
   "metadata": {},
   "source": [
    "##### Condition1:\n",
    "\n",
    "Before filling the null values we have to do one thing according to given condition that: we have to keep the variable \"STATUS\" with only \"WON\" and \"LOST\" values while training. So, deleting unnessary rows or columns is best practice to build a successful model with high accuracy and also it saves the processing time and memory.\n",
    "\n",
    "Now I am going to keep only nessary Rows and columns within dataset."
   ]
  },
  {
   "cell_type": "code",
   "execution_count": 10,
   "id": "9ae17666",
   "metadata": {},
   "outputs": [],
   "source": [
    "# Filter Rows by list of values\n",
    "new_df = df.query('status == [\"WON\",\"LOST\"]')"
   ]
  },
  {
   "cell_type": "code",
   "execution_count": 11,
   "id": "c9347c27",
   "metadata": {},
   "outputs": [
    {
     "data": {
      "text/html": [
       "<div>\n",
       "<style scoped>\n",
       "    .dataframe tbody tr th:only-of-type {\n",
       "        vertical-align: middle;\n",
       "    }\n",
       "\n",
       "    .dataframe tbody tr th {\n",
       "        vertical-align: top;\n",
       "    }\n",
       "\n",
       "    .dataframe thead th {\n",
       "        text-align: right;\n",
       "    }\n",
       "</style>\n",
       "<table border=\"1\" class=\"dataframe\">\n",
       "  <thead>\n",
       "    <tr style=\"text-align: right;\">\n",
       "      <th></th>\n",
       "      <th>Agent_id</th>\n",
       "      <th>status</th>\n",
       "      <th>lost_reason</th>\n",
       "      <th>budget</th>\n",
       "      <th>lease</th>\n",
       "      <th>movein</th>\n",
       "      <th>source</th>\n",
       "      <th>source_city</th>\n",
       "      <th>source_country</th>\n",
       "      <th>utm_source</th>\n",
       "      <th>utm_medium</th>\n",
       "      <th>des_city</th>\n",
       "      <th>des_country</th>\n",
       "      <th>room_type</th>\n",
       "      <th>lead_id</th>\n",
       "    </tr>\n",
       "  </thead>\n",
       "  <tbody>\n",
       "    <tr>\n",
       "      <th>0</th>\n",
       "      <td>1deba9e96f404694373de9749ddd1ca8aa7bb823145a6f...</td>\n",
       "      <td>LOST</td>\n",
       "      <td>Not responding</td>\n",
       "      <td>NaN</td>\n",
       "      <td>NaN</td>\n",
       "      <td>NaN</td>\n",
       "      <td>9b2d5b4678781e53038e91ea5324530a03f27dc1d0e5f6...</td>\n",
       "      <td>9b2d5b4678781e53038e91ea5324530a03f27dc1d0e5f6...</td>\n",
       "      <td>9b2d5b4678781e53038e91ea5324530a03f27dc1d0e5f6...</td>\n",
       "      <td>3d59f7548e1af2151b64135003ce63c0a484c26b9b8b16...</td>\n",
       "      <td>268ad70eb5bc4737a2ae28162cbca30118cc94520e49ef...</td>\n",
       "      <td>ecc0e7dc084f141b29479058967d0bc07dee25d9690a98...</td>\n",
       "      <td>8d23a6e37e0a6431a8f1b43a91026dcff51170a89a6512...</td>\n",
       "      <td>NaN</td>\n",
       "      <td>cd5dc0d9393f3980d11d4ba6f88f8110c2b7a7f7796307...</td>\n",
       "    </tr>\n",
       "    <tr>\n",
       "      <th>1</th>\n",
       "      <td>299ae77a4ef350ae0dd37d6bba1c002d03444fb1edb236...</td>\n",
       "      <td>LOST</td>\n",
       "      <td>Low budget</td>\n",
       "      <td>NaN</td>\n",
       "      <td>NaN</td>\n",
       "      <td>NaN</td>\n",
       "      <td>9b2d5b4678781e53038e91ea5324530a03f27dc1d0e5f6...</td>\n",
       "      <td>9b2d5b4678781e53038e91ea5324530a03f27dc1d0e5f6...</td>\n",
       "      <td>9b2d5b4678781e53038e91ea5324530a03f27dc1d0e5f6...</td>\n",
       "      <td>3d59f7548e1af2151b64135003ce63c0a484c26b9b8b16...</td>\n",
       "      <td>268ad70eb5bc4737a2ae28162cbca30118cc94520e49ef...</td>\n",
       "      <td>5372372f3bf5896820cb2819300c3e681820d82c6efc54...</td>\n",
       "      <td>8d23a6e37e0a6431a8f1b43a91026dcff51170a89a6512...</td>\n",
       "      <td>NaN</td>\n",
       "      <td>b94693673a5f7178d1b114e4004ad52377d3244dd24a3d...</td>\n",
       "    </tr>\n",
       "    <tr>\n",
       "      <th>2</th>\n",
       "      <td>c213697430c006013012dd2aca82dd9732aa0a1a6bca13...</td>\n",
       "      <td>LOST</td>\n",
       "      <td>Not responding</td>\n",
       "      <td>£121 - £180 Per Week</td>\n",
       "      <td>Full Year Course Stay 40 - 44 weeks</td>\n",
       "      <td>31-08-2022</td>\n",
       "      <td>7aae3e886e89fc1187a5c47d6cea1c22998ee610ade1f2...</td>\n",
       "      <td>9b8cc3c63cdf447e463c11544924bf027945cbd29675f7...</td>\n",
       "      <td>e09e10e67812e9d236ad900e5d46b4308fc62f5d69446a...</td>\n",
       "      <td>bbdefa2950f49882f295b1285d4fa9dec45fc4144bfb07...</td>\n",
       "      <td>09076eb7665d1fb9389c7c4517fee0b00e43092eb34821...</td>\n",
       "      <td>11ab03a1a8c367191355c152f39fe28cae5e426fce49ef...</td>\n",
       "      <td>8d23a6e37e0a6431a8f1b43a91026dcff51170a89a6512...</td>\n",
       "      <td>Ensuite</td>\n",
       "      <td>96ea4e2bf04496c044745938c0299c264c3f4ba079e572...</td>\n",
       "    </tr>\n",
       "    <tr>\n",
       "      <th>3</th>\n",
       "      <td>eac9815a500f908736d303e23aa227f0957177b0e6756b...</td>\n",
       "      <td>LOST</td>\n",
       "      <td>Low budget</td>\n",
       "      <td>0-0</td>\n",
       "      <td>0</td>\n",
       "      <td>NaN</td>\n",
       "      <td>ba2d0a29556ac20f86f45e4543c0825428cba33fd7a9ea...</td>\n",
       "      <td>a5f0d2d08eb0592087e3a3a2f9c1ba2c67cc30f2efd2bd...</td>\n",
       "      <td>e09e10e67812e9d236ad900e5d46b4308fc62f5d69446a...</td>\n",
       "      <td>bbdefa2950f49882f295b1285d4fa9dec45fc4144bfb07...</td>\n",
       "      <td>09076eb7665d1fb9389c7c4517fee0b00e43092eb34821...</td>\n",
       "      <td>19372fa44c57a01c37a5a8418779ca3d99b0b59731fb35...</td>\n",
       "      <td>8d23a6e37e0a6431a8f1b43a91026dcff51170a89a6512...</td>\n",
       "      <td>NaN</td>\n",
       "      <td>1d2b34d8add02a182a4129023766ca4585a8ddced0e5b3...</td>\n",
       "    </tr>\n",
       "    <tr>\n",
       "      <th>4</th>\n",
       "      <td>1deba9e96f404694373de9749ddd1ca8aa7bb823145a6f...</td>\n",
       "      <td>LOST</td>\n",
       "      <td>Junk lead</td>\n",
       "      <td>NaN</td>\n",
       "      <td>NaN</td>\n",
       "      <td>NaN</td>\n",
       "      <td>9b2d5b4678781e53038e91ea5324530a03f27dc1d0e5f6...</td>\n",
       "      <td>9b2d5b4678781e53038e91ea5324530a03f27dc1d0e5f6...</td>\n",
       "      <td>9b2d5b4678781e53038e91ea5324530a03f27dc1d0e5f6...</td>\n",
       "      <td>3d59f7548e1af2151b64135003ce63c0a484c26b9b8b16...</td>\n",
       "      <td>268ad70eb5bc4737a2ae28162cbca30118cc94520e49ef...</td>\n",
       "      <td>9b2d5b4678781e53038e91ea5324530a03f27dc1d0e5f6...</td>\n",
       "      <td>9b2d5b4678781e53038e91ea5324530a03f27dc1d0e5f6...</td>\n",
       "      <td>NaN</td>\n",
       "      <td>fc10fffd29cfbe93c55158fb47752a7501c211d253468c...</td>\n",
       "    </tr>\n",
       "  </tbody>\n",
       "</table>\n",
       "</div>"
      ],
      "text/plain": [
       "                                            Agent_id status     lost_reason  \\\n",
       "0  1deba9e96f404694373de9749ddd1ca8aa7bb823145a6f...   LOST  Not responding   \n",
       "1  299ae77a4ef350ae0dd37d6bba1c002d03444fb1edb236...   LOST      Low budget   \n",
       "2  c213697430c006013012dd2aca82dd9732aa0a1a6bca13...   LOST  Not responding   \n",
       "3  eac9815a500f908736d303e23aa227f0957177b0e6756b...   LOST      Low budget   \n",
       "4  1deba9e96f404694373de9749ddd1ca8aa7bb823145a6f...   LOST       Junk lead   \n",
       "\n",
       "                 budget                                lease      movein  \\\n",
       "0                   NaN                                  NaN         NaN   \n",
       "1                   NaN                                  NaN         NaN   \n",
       "2  £121 - £180 Per Week  Full Year Course Stay 40 - 44 weeks  31-08-2022   \n",
       "3                   0-0                                    0         NaN   \n",
       "4                   NaN                                  NaN         NaN   \n",
       "\n",
       "                                              source  \\\n",
       "0  9b2d5b4678781e53038e91ea5324530a03f27dc1d0e5f6...   \n",
       "1  9b2d5b4678781e53038e91ea5324530a03f27dc1d0e5f6...   \n",
       "2  7aae3e886e89fc1187a5c47d6cea1c22998ee610ade1f2...   \n",
       "3  ba2d0a29556ac20f86f45e4543c0825428cba33fd7a9ea...   \n",
       "4  9b2d5b4678781e53038e91ea5324530a03f27dc1d0e5f6...   \n",
       "\n",
       "                                         source_city  \\\n",
       "0  9b2d5b4678781e53038e91ea5324530a03f27dc1d0e5f6...   \n",
       "1  9b2d5b4678781e53038e91ea5324530a03f27dc1d0e5f6...   \n",
       "2  9b8cc3c63cdf447e463c11544924bf027945cbd29675f7...   \n",
       "3  a5f0d2d08eb0592087e3a3a2f9c1ba2c67cc30f2efd2bd...   \n",
       "4  9b2d5b4678781e53038e91ea5324530a03f27dc1d0e5f6...   \n",
       "\n",
       "                                      source_country  \\\n",
       "0  9b2d5b4678781e53038e91ea5324530a03f27dc1d0e5f6...   \n",
       "1  9b2d5b4678781e53038e91ea5324530a03f27dc1d0e5f6...   \n",
       "2  e09e10e67812e9d236ad900e5d46b4308fc62f5d69446a...   \n",
       "3  e09e10e67812e9d236ad900e5d46b4308fc62f5d69446a...   \n",
       "4  9b2d5b4678781e53038e91ea5324530a03f27dc1d0e5f6...   \n",
       "\n",
       "                                          utm_source  \\\n",
       "0  3d59f7548e1af2151b64135003ce63c0a484c26b9b8b16...   \n",
       "1  3d59f7548e1af2151b64135003ce63c0a484c26b9b8b16...   \n",
       "2  bbdefa2950f49882f295b1285d4fa9dec45fc4144bfb07...   \n",
       "3  bbdefa2950f49882f295b1285d4fa9dec45fc4144bfb07...   \n",
       "4  3d59f7548e1af2151b64135003ce63c0a484c26b9b8b16...   \n",
       "\n",
       "                                          utm_medium  \\\n",
       "0  268ad70eb5bc4737a2ae28162cbca30118cc94520e49ef...   \n",
       "1  268ad70eb5bc4737a2ae28162cbca30118cc94520e49ef...   \n",
       "2  09076eb7665d1fb9389c7c4517fee0b00e43092eb34821...   \n",
       "3  09076eb7665d1fb9389c7c4517fee0b00e43092eb34821...   \n",
       "4  268ad70eb5bc4737a2ae28162cbca30118cc94520e49ef...   \n",
       "\n",
       "                                            des_city  \\\n",
       "0  ecc0e7dc084f141b29479058967d0bc07dee25d9690a98...   \n",
       "1  5372372f3bf5896820cb2819300c3e681820d82c6efc54...   \n",
       "2  11ab03a1a8c367191355c152f39fe28cae5e426fce49ef...   \n",
       "3  19372fa44c57a01c37a5a8418779ca3d99b0b59731fb35...   \n",
       "4  9b2d5b4678781e53038e91ea5324530a03f27dc1d0e5f6...   \n",
       "\n",
       "                                         des_country room_type  \\\n",
       "0  8d23a6e37e0a6431a8f1b43a91026dcff51170a89a6512...       NaN   \n",
       "1  8d23a6e37e0a6431a8f1b43a91026dcff51170a89a6512...       NaN   \n",
       "2  8d23a6e37e0a6431a8f1b43a91026dcff51170a89a6512...   Ensuite   \n",
       "3  8d23a6e37e0a6431a8f1b43a91026dcff51170a89a6512...       NaN   \n",
       "4  9b2d5b4678781e53038e91ea5324530a03f27dc1d0e5f6...       NaN   \n",
       "\n",
       "                                             lead_id  \n",
       "0  cd5dc0d9393f3980d11d4ba6f88f8110c2b7a7f7796307...  \n",
       "1  b94693673a5f7178d1b114e4004ad52377d3244dd24a3d...  \n",
       "2  96ea4e2bf04496c044745938c0299c264c3f4ba079e572...  \n",
       "3  1d2b34d8add02a182a4129023766ca4585a8ddced0e5b3...  \n",
       "4  fc10fffd29cfbe93c55158fb47752a7501c211d253468c...  "
      ]
     },
     "execution_count": 11,
     "metadata": {},
     "output_type": "execute_result"
    }
   ],
   "source": [
    "new_df.head()"
   ]
  },
  {
   "cell_type": "code",
   "execution_count": 12,
   "id": "a5cd4ab9",
   "metadata": {},
   "outputs": [],
   "source": [
    "new_df = new_df.astype(str)"
   ]
  },
  {
   "cell_type": "code",
   "execution_count": 13,
   "id": "73d1b248",
   "metadata": {},
   "outputs": [],
   "source": [
    "# First, make categorical text lowercase\n",
    "new_df = new_df.apply(lambda x: x.str.lower())"
   ]
  },
  {
   "cell_type": "code",
   "execution_count": 14,
   "id": "c3714fc2",
   "metadata": {},
   "outputs": [],
   "source": [
    "# create a dictionary to map values to 0 and 1\n",
    "mapping = {'lost': 0, 'won': 1}\n",
    "\n",
    "# use the map function to replace values in the 'result' column\n",
    "new_df[\"status\"] = new_df[\"status\"].map(mapping)"
   ]
  },
  {
   "cell_type": "code",
   "execution_count": 15,
   "id": "f95b84fe",
   "metadata": {},
   "outputs": [
    {
     "data": {
      "text/plain": [
       "array([0, 1], dtype=int64)"
      ]
     },
     "execution_count": 15,
     "metadata": {},
     "output_type": "execute_result"
    }
   ],
   "source": [
    "# Let us check the status variable values\n",
    "new_df[\"status\"].unique()"
   ]
  },
  {
   "cell_type": "markdown",
   "id": "5f47fe1e",
   "metadata": {},
   "source": [
    "##### Observation:\n",
    "\n",
    "Yes, we have only two categories in our data frame according to given condition "
   ]
  },
  {
   "cell_type": "markdown",
   "id": "5feb1b15",
   "metadata": {},
   "source": [
    "###  Step1.Data Cleaning ( including Feature Selection)"
   ]
  },
  {
   "cell_type": "markdown",
   "id": "2d98054c",
   "metadata": {},
   "source": [
    "When training machine learning models, it's often a good idea to eliminate special symbols from the data for the following reasons:\n",
    "\n",
    "Special symbols like punctuation marks, dollar signs, and percent signs can increase the amount of noise in the data by adding more variance to the text.\n",
    "By deleting these symbols, you can simplify the data and direct the model's attention to the key patterns.\n",
    "\n",
    "The precision of the model can be affected by special symbols:\n",
    "Certain symbols like quote marks and brackets, for example, can significantly change how the reader interprets a piece of writing.\n",
    "If these symbols are not handled appropriately, the model may read them incorrectly, which would reduce its accuracy. \n",
    "\n",
    "Data processing problems can result from special symbols: Special symbols, especially those used as separators or delimiters, can result in data processing problems.\n",
    "It can assist to check that the data is represented correctly for the model by removing these symbols. "
   ]
  },
  {
   "cell_type": "code",
   "execution_count": 16,
   "id": "39920f44",
   "metadata": {},
   "outputs": [],
   "source": [
    "# remove special symbols from columns\n",
    "new_df['budget'] = new_df['budget'].str.replace('[^A-Za-z0-9\\s]+', '')\n",
    "new_df['lease'] = new_df['lease'].str.replace('[^A-Za-z0-9\\s]+', '')\n",
    "new_df['lost_reason'] = new_df['lost_reason'].str.replace('[^A-Za-z0-9\\s]+', '')"
   ]
  },
  {
   "cell_type": "markdown",
   "id": "d3ebcb45",
   "metadata": {},
   "source": [
    "ID numbers are associated with sensitive or personal information (e.g., social security numbers or medical record numbers), then including them in the model could introduce bias or raise privacy concerns. In these cases, it might be better to remove the ID numbers or use anonymized versions instead. \n",
    "\n",
    "Here I am going to delete Agent_id, lead_id and movein columns to avoid bias."
   ]
  },
  {
   "cell_type": "code",
   "execution_count": 17,
   "id": "e1ec9a0e",
   "metadata": {},
   "outputs": [],
   "source": [
    "# Deleting Unwanted columns\n",
    "new_df = new_df.drop([\"Agent_id\",\"lead_id\",\"movein\"], axis = True)"
   ]
  },
  {
   "cell_type": "code",
   "execution_count": 18,
   "id": "9ae57b7e",
   "metadata": {},
   "outputs": [],
   "source": [
    "# Removing Duplicate values\n",
    "no_dup = new_df.drop_duplicates()"
   ]
  },
  {
   "cell_type": "code",
   "execution_count": 19,
   "id": "4220a7a4",
   "metadata": {},
   "outputs": [
    {
     "data": {
      "text/plain": [
       "(41374, 12)"
      ]
     },
     "execution_count": 19,
     "metadata": {},
     "output_type": "execute_result"
    }
   ],
   "source": [
    "# Checking for shape of the dataset\n",
    "no_dup.shape"
   ]
  },
  {
   "cell_type": "markdown",
   "id": "145f35ff",
   "metadata": {},
   "source": [
    "##### Observation:\n",
    "\n",
    "We can clearly observe that the count of rows before deleting duplicates (46317) and after deleting duplicates (43754). So, we have 2572 duplicate values in our dataset and are deleted."
   ]
  },
  {
   "cell_type": "code",
   "execution_count": 20,
   "id": "1a6bf999",
   "metadata": {},
   "outputs": [
    {
     "data": {
      "text/plain": [
       "status             int64\n",
       "lost_reason       object\n",
       "budget            object\n",
       "lease             object\n",
       "source            object\n",
       "source_city       object\n",
       "source_country    object\n",
       "utm_source        object\n",
       "utm_medium        object\n",
       "des_city          object\n",
       "des_country       object\n",
       "room_type         object\n",
       "dtype: object"
      ]
     },
     "execution_count": 20,
     "metadata": {},
     "output_type": "execute_result"
    }
   ],
   "source": [
    "# Checking for dtypes\n",
    "no_dup.dtypes"
   ]
  },
  {
   "cell_type": "code",
   "execution_count": 21,
   "id": "984fd44d",
   "metadata": {},
   "outputs": [
    {
     "data": {
      "text/plain": [
       "status            0\n",
       "lost_reason       0\n",
       "budget            0\n",
       "lease             0\n",
       "source            0\n",
       "source_city       0\n",
       "source_country    0\n",
       "utm_source        0\n",
       "utm_medium        0\n",
       "des_city          0\n",
       "des_country       0\n",
       "room_type         0\n",
       "dtype: int64"
      ]
     },
     "execution_count": 21,
     "metadata": {},
     "output_type": "execute_result"
    }
   ],
   "source": [
    "# Checking for null values\n",
    "no_dup.isnull().sum()"
   ]
  },
  {
   "cell_type": "markdown",
   "id": "c87b7d5c",
   "metadata": {},
   "source": [
    "##### Observation:\n",
    "Above information shows that some columns have null values. Now, i am going to fill null values with mode."
   ]
  },
  {
   "cell_type": "markdown",
   "id": "41b2363d",
   "metadata": {},
   "source": [
    "##### Condition2:\n",
    "According to given condition all columns can be treated as categorical values. So, there is no need to convert budget to float type."
   ]
  },
  {
   "cell_type": "markdown",
   "id": "f06c48cb",
   "metadata": {},
   "source": [
    "##### Condition3:\n",
    "\n",
    "This'9b2d5b4678781e53038e91ea5324530a03f27dc1d0e5f6c9bc9d493a23be9de0' represents NaN and could be present in more than one column.\n",
    "\n",
    "According to this condition, now i am going to replace all NaN values with mode."
   ]
  },
  {
   "cell_type": "code",
   "execution_count": 22,
   "id": "1a42f2c3",
   "metadata": {},
   "outputs": [
    {
     "data": {
      "text/plain": [
       "[0, 0, 0, 0, 4771, 5675, 5499, 61, 2766, 1863, 1863, 0]"
      ]
     },
     "execution_count": 22,
     "metadata": {},
     "output_type": "execute_result"
    }
   ],
   "source": [
    "# Counting the NaN string count\n",
    "count_nan = [len(no_dup[no_dup[x] == \"9b2d5b4678781e53038e91ea5324530a03f27dc1d0e5f6c9bc9d493a23be9de0\"]) for x in no_dup]\n",
    "count_nan"
   ]
  },
  {
   "cell_type": "markdown",
   "id": "0076aeab",
   "metadata": {},
   "source": [
    "##### Observation:\n",
    "\n",
    "Above output clearly shows that the count of the columns, containing NaN string values."
   ]
  },
  {
   "cell_type": "code",
   "execution_count": 23,
   "id": "89a1dbdf",
   "metadata": {},
   "outputs": [],
   "source": [
    "# Replacing NaN string with \"np.NaN\"\n",
    "rep_nan = no_dup.replace([\"9b2d5b4678781e53038e91ea5324530a03f27dc1d0e5f6c9bc9d493a23be9de0\"], np.NaN)"
   ]
  },
  {
   "cell_type": "code",
   "execution_count": 24,
   "id": "23dc8d3c",
   "metadata": {},
   "outputs": [
    {
     "data": {
      "text/plain": [
       "[0, 0, 0, 0, 0, 0, 0, 0, 0, 0, 0, 0]"
      ]
     },
     "execution_count": 24,
     "metadata": {},
     "output_type": "execute_result"
    }
   ],
   "source": [
    "# Checkin the count of replaced columns\n",
    "cal_nan = [len(rep_nan[rep_nan[x] == \"9b2d5b4678781e53038e91ea5324530a03f27dc1d0e5f6c9bc9d493a23be9de0\"]) for x in rep_nan]\n",
    "cal_nan"
   ]
  },
  {
   "cell_type": "code",
   "execution_count": 25,
   "id": "00c9a57c",
   "metadata": {},
   "outputs": [
    {
     "data": {
      "text/html": [
       "<div>\n",
       "<style scoped>\n",
       "    .dataframe tbody tr th:only-of-type {\n",
       "        vertical-align: middle;\n",
       "    }\n",
       "\n",
       "    .dataframe tbody tr th {\n",
       "        vertical-align: top;\n",
       "    }\n",
       "\n",
       "    .dataframe thead th {\n",
       "        text-align: right;\n",
       "    }\n",
       "</style>\n",
       "<table border=\"1\" class=\"dataframe\">\n",
       "  <thead>\n",
       "    <tr style=\"text-align: right;\">\n",
       "      <th></th>\n",
       "      <th>status</th>\n",
       "      <th>lost_reason</th>\n",
       "      <th>budget</th>\n",
       "      <th>lease</th>\n",
       "      <th>source</th>\n",
       "      <th>source_city</th>\n",
       "      <th>source_country</th>\n",
       "      <th>utm_source</th>\n",
       "      <th>utm_medium</th>\n",
       "      <th>des_city</th>\n",
       "      <th>des_country</th>\n",
       "      <th>room_type</th>\n",
       "    </tr>\n",
       "  </thead>\n",
       "  <tbody>\n",
       "    <tr>\n",
       "      <th>0</th>\n",
       "      <td>0</td>\n",
       "      <td>not responding</td>\n",
       "      <td>nan</td>\n",
       "      <td>nan</td>\n",
       "      <td>NaN</td>\n",
       "      <td>NaN</td>\n",
       "      <td>NaN</td>\n",
       "      <td>3d59f7548e1af2151b64135003ce63c0a484c26b9b8b16...</td>\n",
       "      <td>268ad70eb5bc4737a2ae28162cbca30118cc94520e49ef...</td>\n",
       "      <td>ecc0e7dc084f141b29479058967d0bc07dee25d9690a98...</td>\n",
       "      <td>8d23a6e37e0a6431a8f1b43a91026dcff51170a89a6512...</td>\n",
       "      <td>nan</td>\n",
       "    </tr>\n",
       "    <tr>\n",
       "      <th>1</th>\n",
       "      <td>0</td>\n",
       "      <td>low budget</td>\n",
       "      <td>nan</td>\n",
       "      <td>nan</td>\n",
       "      <td>NaN</td>\n",
       "      <td>NaN</td>\n",
       "      <td>NaN</td>\n",
       "      <td>3d59f7548e1af2151b64135003ce63c0a484c26b9b8b16...</td>\n",
       "      <td>268ad70eb5bc4737a2ae28162cbca30118cc94520e49ef...</td>\n",
       "      <td>5372372f3bf5896820cb2819300c3e681820d82c6efc54...</td>\n",
       "      <td>8d23a6e37e0a6431a8f1b43a91026dcff51170a89a6512...</td>\n",
       "      <td>nan</td>\n",
       "    </tr>\n",
       "  </tbody>\n",
       "</table>\n",
       "</div>"
      ],
      "text/plain": [
       "   status     lost_reason budget lease source source_city source_country  \\\n",
       "0       0  not responding    nan   nan    NaN         NaN            NaN   \n",
       "1       0      low budget    nan   nan    NaN         NaN            NaN   \n",
       "\n",
       "                                          utm_source  \\\n",
       "0  3d59f7548e1af2151b64135003ce63c0a484c26b9b8b16...   \n",
       "1  3d59f7548e1af2151b64135003ce63c0a484c26b9b8b16...   \n",
       "\n",
       "                                          utm_medium  \\\n",
       "0  268ad70eb5bc4737a2ae28162cbca30118cc94520e49ef...   \n",
       "1  268ad70eb5bc4737a2ae28162cbca30118cc94520e49ef...   \n",
       "\n",
       "                                            des_city  \\\n",
       "0  ecc0e7dc084f141b29479058967d0bc07dee25d9690a98...   \n",
       "1  5372372f3bf5896820cb2819300c3e681820d82c6efc54...   \n",
       "\n",
       "                                         des_country room_type  \n",
       "0  8d23a6e37e0a6431a8f1b43a91026dcff51170a89a6512...       nan  \n",
       "1  8d23a6e37e0a6431a8f1b43a91026dcff51170a89a6512...       nan  "
      ]
     },
     "execution_count": 25,
     "metadata": {},
     "output_type": "execute_result"
    }
   ],
   "source": [
    "rep_nan.head(2)"
   ]
  },
  {
   "cell_type": "code",
   "execution_count": 26,
   "id": "38341860",
   "metadata": {},
   "outputs": [
    {
     "data": {
      "text/plain": [
       "status               0\n",
       "lost_reason          0\n",
       "budget               0\n",
       "lease                0\n",
       "source            4771\n",
       "source_city       5675\n",
       "source_country    5499\n",
       "utm_source          61\n",
       "utm_medium        2766\n",
       "des_city          1863\n",
       "des_country       1863\n",
       "room_type            0\n",
       "dtype: int64"
      ]
     },
     "execution_count": 26,
     "metadata": {},
     "output_type": "execute_result"
    }
   ],
   "source": [
    "rep_nan.isnull().sum()"
   ]
  },
  {
   "cell_type": "markdown",
   "id": "05601e9f",
   "metadata": {},
   "source": [
    "##### Filling Null and Missing values with mode()"
   ]
  },
  {
   "cell_type": "code",
   "execution_count": 27,
   "id": "ecf5ab2b",
   "metadata": {},
   "outputs": [],
   "source": [
    "# Fill null values with mode of their corresponding column\n",
    "rep_nan = rep_nan.fillna(rep_nan.mode().iloc[:,4:12])"
   ]
  },
  {
   "cell_type": "code",
   "execution_count": 28,
   "id": "e8e2d917",
   "metadata": {},
   "outputs": [],
   "source": [
    "rep_nan[\"lost_reason\"] = rep_nan[\"lost_reason\"].replace(\"nan\", rep_nan[\"lost_reason\"].mode()[0])\n",
    "rep_nan[\"budget\"] = rep_nan[\"budget\"].replace(\"nan\", rep_nan[\"budget\"].mode()[0])\n",
    "rep_nan[\"lease\"] = rep_nan[\"lease\"].replace(\"nan\", rep_nan[\"lease\"].mode()[0])\n",
    "rep_nan[\"source\"] = rep_nan[\"source\"].replace(np.NaN, rep_nan[\"source\"].mode()[0])\n",
    "rep_nan[\"source_city\"] = rep_nan[\"source_city\"].replace(np.NaN, rep_nan[\"source_city\"].mode()[0])\n",
    "rep_nan[\"source_country\"] = rep_nan[\"source_country\"].replace(np.NaN, rep_nan[\"source_country\"].mode()[0])\n",
    "rep_nan[\"utm_source\"] = rep_nan[\"utm_source\"].replace(np.NaN, rep_nan[\"utm_source\"].mode()[0])\n",
    "rep_nan[\"utm_medium\"] = rep_nan[\"utm_medium\"].replace(np.NaN, rep_nan[\"utm_medium\"].mode()[0])\n",
    "rep_nan[\"des_city\"] = rep_nan[\"des_city\"].replace(np.NaN, rep_nan[\"des_city\"].mode()[0])\n",
    "rep_nan[\"des_country\"] = rep_nan[\"des_country\"].replace(np.NaN, rep_nan[\"des_country\"].mode()[0])"
   ]
  },
  {
   "cell_type": "code",
   "execution_count": 29,
   "id": "b01e27e8",
   "metadata": {},
   "outputs": [
    {
     "data": {
      "text/plain": [
       "nan             19992\n",
       "ensuite         11385\n",
       "studio           6020\n",
       "entire place     3974\n",
       "non-ensuite         2\n",
       "twin-studio         1\n",
       "Name: room_type, dtype: int64"
      ]
     },
     "execution_count": 29,
     "metadata": {},
     "output_type": "execute_result"
    }
   ],
   "source": [
    "rep_nan[\"room_type\"].value_counts()"
   ]
  },
  {
   "cell_type": "code",
   "execution_count": 30,
   "id": "cc8b3ce1",
   "metadata": {},
   "outputs": [],
   "source": [
    "# Fill blank values with mode of their corresponding column\n",
    "rep_nan = rep_nan.fillna(rep_nan.mode().iloc[:,3])\n",
    "rep_nan[\"room_type\"] = rep_nan[\"room_type\"].str.replace(\"nan\",\"ensuite\")"
   ]
  },
  {
   "cell_type": "markdown",
   "id": "0d1e4b35",
   "metadata": {},
   "source": [
    "In this case mode value is 'nan', so that is replaced with next majority value."
   ]
  },
  {
   "cell_type": "markdown",
   "id": "e9f5bd48",
   "metadata": {},
   "source": [
    "#### Data analysis"
   ]
  },
  {
   "cell_type": "markdown",
   "id": "5f737947",
   "metadata": {},
   "source": [
    "First we have to check target column whether it is Balanced or imbalenced. Because, When training with imbalanced data, machine learning classifiers may have difficulty accurately predicting the minority class because they have not been exposed to enough examples of that class. Instead, they may focus on predicting the majority class, which leads to a biased model that performs poorly on the minority class."
   ]
  },
  {
   "cell_type": "code",
   "execution_count": 31,
   "id": "251caa91",
   "metadata": {},
   "outputs": [
    {
     "data": {
      "text/plain": [
       "0    38444\n",
       "1     2930\n",
       "Name: status, dtype: int64"
      ]
     },
     "execution_count": 31,
     "metadata": {},
     "output_type": "execute_result"
    }
   ],
   "source": [
    "# Getting value counts on Target column [\"status\"]\n",
    "rep_nan[\"status\"].value_counts()"
   ]
  },
  {
   "cell_type": "code",
   "execution_count": 32,
   "id": "276ee274",
   "metadata": {},
   "outputs": [
    {
     "data": {
      "image/png": "[encoded data removed]",
      "text/plain": [
       "<Figure size 1800x400 with 2 Axes>"
      ]
     },
     "metadata": {},
     "output_type": "display_data"
    }
   ],
   "source": [
    "plt.figure(figsize=(18,4))\n",
    "plt.subplot(1,2,1)\n",
    "sns.countplot(x=rep_nan[\"status\"], palette=['pink','grey'])\n",
    "plt.subplot(1,2,2)\n",
    "rep_nan[\"status\"].value_counts().plot(kind='pie', autopct='%.2f%%', explode=[0,0.1], startangle=40, colors=['pink','grey'],labels = ['LOST','WON'])\n",
    "plt.suptitle('Distribution of the Target variable [\"status\"]')\n",
    "plt.show()"
   ]
  },
  {
   "cell_type": "markdown",
   "id": "89358715",
   "metadata": {},
   "source": [
    "### Observation:\n",
    "From the above information it is clear that the data is prefect imbalanced and to overcome this we will use Synthetic Minority Oversampling Technique [SMOTE]."
   ]
  },
  {
   "cell_type": "markdown",
   "id": "a74395a8",
   "metadata": {},
   "source": [
    "### Splitting Indipendent and Dependent variables"
   ]
  },
  {
   "cell_type": "code",
   "execution_count": 33,
   "id": "0924326b",
   "metadata": {},
   "outputs": [],
   "source": [
    "y = rep_nan[\"status\"]\n",
    "x = rep_nan.iloc[:,1:]"
   ]
  },
  {
   "cell_type": "code",
   "execution_count": 34,
   "id": "33e8dd91",
   "metadata": {},
   "outputs": [
    {
     "data": {
      "text/plain": [
       "((41374, 11), (41374,))"
      ]
     },
     "execution_count": 34,
     "metadata": {},
     "output_type": "execute_result"
    }
   ],
   "source": [
    "# Getting shape of the data\n",
    "x.shape, y.shape"
   ]
  },
  {
   "cell_type": "markdown",
   "id": "045ad6e7",
   "metadata": {},
   "source": [
    "### One-Hot encoding of data using get_dummies() method"
   ]
  },
  {
   "cell_type": "markdown",
   "id": "1f356720",
   "metadata": {},
   "source": [
    "The get_dummies() function takes a pandas dataframe or series as input and returns a new dataframe with one-hot encoded columns. The function automatically determines the categorical variables in the input data and applies one-hot encoding to them."
   ]
  },
  {
   "cell_type": "code",
   "execution_count": 35,
   "id": "1f134a2a",
   "metadata": {},
   "outputs": [],
   "source": [
    "dummy_df = pd.get_dummies(x)"
   ]
  },
  {
   "cell_type": "code",
   "execution_count": 36,
   "id": "275df2cf",
   "metadata": {},
   "outputs": [
    {
     "data": {
      "text/html": [
       "<div>\n",
       "<style scoped>\n",
       "    .dataframe tbody tr th:only-of-type {\n",
       "        vertical-align: middle;\n",
       "    }\n",
       "\n",
       "    .dataframe tbody tr th {\n",
       "        vertical-align: top;\n",
       "    }\n",
       "\n",
       "    .dataframe thead th {\n",
       "        text-align: right;\n",
       "    }\n",
       "</style>\n",
       "<table border=\"1\" class=\"dataframe\">\n",
       "  <thead>\n",
       "    <tr style=\"text-align: right;\">\n",
       "      <th></th>\n",
       "      <th>lost_reason_booked on campus accommodation</th>\n",
       "      <th>lost_reason_booked with competitor</th>\n",
       "      <th>lost_reason_booked with manager</th>\n",
       "      <th>lost_reason_cross sell</th>\n",
       "      <th>lost_reason_didnt respond in time</th>\n",
       "      <th>lost_reason_distance issue</th>\n",
       "      <th>lost_reason_guarantor issue</th>\n",
       "      <th>lost_reason_inadequate details</th>\n",
       "      <th>lost_reason_junk lead</th>\n",
       "      <th>lost_reason_junk lead just enquiring</th>\n",
       "      <th>...</th>\n",
       "      <th>des_country_8ef41e6f4b07432a0cb4eb7a8774e7a3878fd3e385f49aa09b406768467db228</th>\n",
       "      <th>des_country_abd149214539d9f222d25de6358735b9fa0efd3956f66102b2c119ae2d9f6348</th>\n",
       "      <th>des_country_be55ef3f4c4e6c2d9c2afe2a33ac90ad0f50d4de7f9163999877e2a9ca5a54f8</th>\n",
       "      <th>des_country_c1ef40ce0484c698eb4bd27fe56c1e7b68d74f9780ed674210d0e5013dae45e9</th>\n",
       "      <th>des_country_dd64913c8b91d76ca27b371f0b86fd30452370469b8cadf4e5a61d41d14e42ec</th>\n",
       "      <th>room_type_ensuite</th>\n",
       "      <th>room_type_entire place</th>\n",
       "      <th>room_type_non-ensuite</th>\n",
       "      <th>room_type_studio</th>\n",
       "      <th>room_type_twin-studio</th>\n",
       "    </tr>\n",
       "  </thead>\n",
       "  <tbody>\n",
       "    <tr>\n",
       "      <th>0</th>\n",
       "      <td>0</td>\n",
       "      <td>0</td>\n",
       "      <td>0</td>\n",
       "      <td>0</td>\n",
       "      <td>0</td>\n",
       "      <td>0</td>\n",
       "      <td>0</td>\n",
       "      <td>0</td>\n",
       "      <td>0</td>\n",
       "      <td>0</td>\n",
       "      <td>...</td>\n",
       "      <td>0</td>\n",
       "      <td>0</td>\n",
       "      <td>0</td>\n",
       "      <td>0</td>\n",
       "      <td>0</td>\n",
       "      <td>1</td>\n",
       "      <td>0</td>\n",
       "      <td>0</td>\n",
       "      <td>0</td>\n",
       "      <td>0</td>\n",
       "    </tr>\n",
       "    <tr>\n",
       "      <th>1</th>\n",
       "      <td>0</td>\n",
       "      <td>0</td>\n",
       "      <td>0</td>\n",
       "      <td>0</td>\n",
       "      <td>0</td>\n",
       "      <td>0</td>\n",
       "      <td>0</td>\n",
       "      <td>0</td>\n",
       "      <td>0</td>\n",
       "      <td>0</td>\n",
       "      <td>...</td>\n",
       "      <td>0</td>\n",
       "      <td>0</td>\n",
       "      <td>0</td>\n",
       "      <td>0</td>\n",
       "      <td>0</td>\n",
       "      <td>1</td>\n",
       "      <td>0</td>\n",
       "      <td>0</td>\n",
       "      <td>0</td>\n",
       "      <td>0</td>\n",
       "    </tr>\n",
       "    <tr>\n",
       "      <th>2</th>\n",
       "      <td>0</td>\n",
       "      <td>0</td>\n",
       "      <td>0</td>\n",
       "      <td>0</td>\n",
       "      <td>0</td>\n",
       "      <td>0</td>\n",
       "      <td>0</td>\n",
       "      <td>0</td>\n",
       "      <td>0</td>\n",
       "      <td>0</td>\n",
       "      <td>...</td>\n",
       "      <td>0</td>\n",
       "      <td>0</td>\n",
       "      <td>0</td>\n",
       "      <td>0</td>\n",
       "      <td>0</td>\n",
       "      <td>1</td>\n",
       "      <td>0</td>\n",
       "      <td>0</td>\n",
       "      <td>0</td>\n",
       "      <td>0</td>\n",
       "    </tr>\n",
       "    <tr>\n",
       "      <th>3</th>\n",
       "      <td>0</td>\n",
       "      <td>0</td>\n",
       "      <td>0</td>\n",
       "      <td>0</td>\n",
       "      <td>0</td>\n",
       "      <td>0</td>\n",
       "      <td>0</td>\n",
       "      <td>0</td>\n",
       "      <td>0</td>\n",
       "      <td>0</td>\n",
       "      <td>...</td>\n",
       "      <td>0</td>\n",
       "      <td>0</td>\n",
       "      <td>0</td>\n",
       "      <td>0</td>\n",
       "      <td>0</td>\n",
       "      <td>1</td>\n",
       "      <td>0</td>\n",
       "      <td>0</td>\n",
       "      <td>0</td>\n",
       "      <td>0</td>\n",
       "    </tr>\n",
       "    <tr>\n",
       "      <th>4</th>\n",
       "      <td>0</td>\n",
       "      <td>0</td>\n",
       "      <td>0</td>\n",
       "      <td>0</td>\n",
       "      <td>0</td>\n",
       "      <td>0</td>\n",
       "      <td>0</td>\n",
       "      <td>0</td>\n",
       "      <td>1</td>\n",
       "      <td>0</td>\n",
       "      <td>...</td>\n",
       "      <td>0</td>\n",
       "      <td>0</td>\n",
       "      <td>0</td>\n",
       "      <td>0</td>\n",
       "      <td>0</td>\n",
       "      <td>1</td>\n",
       "      <td>0</td>\n",
       "      <td>0</td>\n",
       "      <td>0</td>\n",
       "      <td>0</td>\n",
       "    </tr>\n",
       "  </tbody>\n",
       "</table>\n",
       "<p>5 rows × 7488 columns</p>\n",
       "</div>"
      ],
      "text/plain": [
       "   lost_reason_booked on campus accommodation  \\\n",
       "0                                           0   \n",
       "1                                           0   \n",
       "2                                           0   \n",
       "3                                           0   \n",
       "4                                           0   \n",
       "\n",
       "   lost_reason_booked with competitor  lost_reason_booked with manager  \\\n",
       "0                                   0                                0   \n",
       "1                                   0                                0   \n",
       "2                                   0                                0   \n",
       "3                                   0                                0   \n",
       "4                                   0                                0   \n",
       "\n",
       "   lost_reason_cross sell  lost_reason_didnt respond in time  \\\n",
       "0                       0                                  0   \n",
       "1                       0                                  0   \n",
       "2                       0                                  0   \n",
       "3                       0                                  0   \n",
       "4                       0                                  0   \n",
       "\n",
       "   lost_reason_distance issue  lost_reason_guarantor issue  \\\n",
       "0                           0                            0   \n",
       "1                           0                            0   \n",
       "2                           0                            0   \n",
       "3                           0                            0   \n",
       "4                           0                            0   \n",
       "\n",
       "   lost_reason_inadequate details  lost_reason_junk lead  \\\n",
       "0                               0                      0   \n",
       "1                               0                      0   \n",
       "2                               0                      0   \n",
       "3                               0                      0   \n",
       "4                               0                      1   \n",
       "\n",
       "   lost_reason_junk lead just enquiring  ...  \\\n",
       "0                                     0  ...   \n",
       "1                                     0  ...   \n",
       "2                                     0  ...   \n",
       "3                                     0  ...   \n",
       "4                                     0  ...   \n",
       "\n",
       "   des_country_8ef41e6f4b07432a0cb4eb7a8774e7a3878fd3e385f49aa09b406768467db228  \\\n",
       "0                                                  0                              \n",
       "1                                                  0                              \n",
       "2                                                  0                              \n",
       "3                                                  0                              \n",
       "4                                                  0                              \n",
       "\n",
       "   des_country_abd149214539d9f222d25de6358735b9fa0efd3956f66102b2c119ae2d9f6348  \\\n",
       "0                                                  0                              \n",
       "1                                                  0                              \n",
       "2                                                  0                              \n",
       "3                                                  0                              \n",
       "4                                                  0                              \n",
       "\n",
       "   des_country_be55ef3f4c4e6c2d9c2afe2a33ac90ad0f50d4de7f9163999877e2a9ca5a54f8  \\\n",
       "0                                                  0                              \n",
       "1                                                  0                              \n",
       "2                                                  0                              \n",
       "3                                                  0                              \n",
       "4                                                  0                              \n",
       "\n",
       "   des_country_c1ef40ce0484c698eb4bd27fe56c1e7b68d74f9780ed674210d0e5013dae45e9  \\\n",
       "0                                                  0                              \n",
       "1                                                  0                              \n",
       "2                                                  0                              \n",
       "3                                                  0                              \n",
       "4                                                  0                              \n",
       "\n",
       "   des_country_dd64913c8b91d76ca27b371f0b86fd30452370469b8cadf4e5a61d41d14e42ec  \\\n",
       "0                                                  0                              \n",
       "1                                                  0                              \n",
       "2                                                  0                              \n",
       "3                                                  0                              \n",
       "4                                                  0                              \n",
       "\n",
       "   room_type_ensuite  room_type_entire place  room_type_non-ensuite  \\\n",
       "0                  1                       0                      0   \n",
       "1                  1                       0                      0   \n",
       "2                  1                       0                      0   \n",
       "3                  1                       0                      0   \n",
       "4                  1                       0                      0   \n",
       "\n",
       "   room_type_studio  room_type_twin-studio  \n",
       "0                 0                      0  \n",
       "1                 0                      0  \n",
       "2                 0                      0  \n",
       "3                 0                      0  \n",
       "4                 0                      0  \n",
       "\n",
       "[5 rows x 7488 columns]"
      ]
     },
     "execution_count": 36,
     "metadata": {},
     "output_type": "execute_result"
    }
   ],
   "source": [
    "dummy_df.head()"
   ]
  },
  {
   "cell_type": "code",
   "execution_count": 37,
   "id": "1491ac9e",
   "metadata": {},
   "outputs": [
    {
     "data": {
      "text/plain": [
       "(41374, 7488)"
      ]
     },
     "execution_count": 37,
     "metadata": {},
     "output_type": "execute_result"
    }
   ],
   "source": [
    "dummy_df.shape"
   ]
  },
  {
   "cell_type": "markdown",
   "id": "00b5f7a1",
   "metadata": {},
   "source": [
    "##### Note:\n",
    "While get_dummies() is a convenient way to perform one-hot encoding, it does have some limitations. One limitation is that it may not work well with high-cardinality categorical variables (i.e., categorical variables with many unique values), as it can lead to a large number of new columns in the resulting dataframe. Another limitation is that it does not support sparse matrix representations, which may be important for memory efficiency when working with large datasets. In such cases, OneHotEncoder may be a better option."
   ]
  },
  {
   "cell_type": "markdown",
   "id": "2e92cee3",
   "metadata": {},
   "source": [
    "### Feature selection"
   ]
  },
  {
   "cell_type": "markdown",
   "id": "d4affce1",
   "metadata": {},
   "source": [
    "The choice of the best feature selection test for a categorical dataset depends on several factors, such as the specific problem you are trying to solve, the number of features in the dataset, and the type of model you plan to use for classification.\n",
    "\n",
    "Here are some common feature selection techniques for categorical datasets: \n",
    "\n",
    ">1. Chisquare Test     \n",
    ">2. Mutual Information    \n",
    ">3. Information gain     \n",
    ">4. Recursive Feature Elimination"
   ]
  },
  {
   "cell_type": "markdown",
   "id": "1e4c0819",
   "metadata": {},
   "source": [
    "##### 1. Chi-squared test: \n",
    "\n",
    "The chi-squared test is a common feature selection method for categorical datasets. It measures the dependence between two categorical variables and can be used to identify features that are most strongly associated with the target variable."
   ]
  },
  {
   "cell_type": "markdown",
   "id": "86035f36",
   "metadata": {},
   "source": [
    "Now we are using \"SelectKBest class\" function for extracting best features of given dataset. The SelectKBest method selects the features according to the k highest score. By changing the 'score_func' parameter we can apply the method for both classification and regression data. Selecting best features is important process when we prepare a large dataset for training. It helps us to eliminate less important part of the data and reduce a training time. "
   ]
  },
  {
   "cell_type": "code",
   "execution_count": 38,
   "id": "0f140c52",
   "metadata": {},
   "outputs": [],
   "source": [
    "from sklearn.feature_selection import SelectKBest, f_classif, chi2, mutual_info_classif"
   ]
  },
  {
   "cell_type": "code",
   "execution_count": 39,
   "id": "66d16dc4",
   "metadata": {},
   "outputs": [],
   "source": [
    "classifier1 = SelectKBest(score_func = chi2, k = 7488 ) # K = Number of features to select"
   ]
  },
  {
   "cell_type": "code",
   "execution_count": 40,
   "id": "c4687864",
   "metadata": {},
   "outputs": [],
   "source": [
    "fitting1 = classifier1.fit(dummy_df,rep_nan[\"status\"])"
   ]
  },
  {
   "cell_type": "code",
   "execution_count": 41,
   "id": "8d944387",
   "metadata": {},
   "outputs": [],
   "source": [
    "x1 = pd.DataFrame(fitting1.scores_)"
   ]
  },
  {
   "cell_type": "code",
   "execution_count": 42,
   "id": "e5ff8169",
   "metadata": {},
   "outputs": [],
   "source": [
    "columns1 = pd.DataFrame(dummy_df.columns)"
   ]
  },
  {
   "cell_type": "code",
   "execution_count": 43,
   "id": "185e70a8",
   "metadata": {},
   "outputs": [],
   "source": [
    "chi_scores = pd.concat([columns1,x1],axis=1)"
   ]
  },
  {
   "cell_type": "code",
   "execution_count": 44,
   "id": "f21421cc",
   "metadata": {},
   "outputs": [],
   "source": [
    "chi_scores.columns = ['Attribute','Score']"
   ]
  },
  {
   "cell_type": "code",
   "execution_count": 45,
   "id": "020ab3b4",
   "metadata": {},
   "outputs": [
    {
     "data": {
      "text/html": [
       "<div>\n",
       "<style scoped>\n",
       "    .dataframe tbody tr th:only-of-type {\n",
       "        vertical-align: middle;\n",
       "    }\n",
       "\n",
       "    .dataframe tbody tr th {\n",
       "        vertical-align: top;\n",
       "    }\n",
       "\n",
       "    .dataframe thead th {\n",
       "        text-align: right;\n",
       "    }\n",
       "</style>\n",
       "<table border=\"1\" class=\"dataframe\">\n",
       "  <thead>\n",
       "    <tr style=\"text-align: right;\">\n",
       "      <th></th>\n",
       "      <th>Attribute</th>\n",
       "      <th>Score</th>\n",
       "    </tr>\n",
       "  </thead>\n",
       "  <tbody>\n",
       "    <tr>\n",
       "      <th>15</th>\n",
       "      <td>lost_reason_low availability</td>\n",
       "      <td>6.884663e+03</td>\n",
       "    </tr>\n",
       "    <tr>\n",
       "      <th>7162</th>\n",
       "      <td>utm_source_44574c4ba2ea74ad4bf1e184133cdbf4e73...</td>\n",
       "      <td>1.263674e+03</td>\n",
       "    </tr>\n",
       "    <tr>\n",
       "      <th>21</th>\n",
       "      <td>lost_reason_not responding</td>\n",
       "      <td>5.277110e+02</td>\n",
       "    </tr>\n",
       "    <tr>\n",
       "      <th>1875</th>\n",
       "      <td>lease_51</td>\n",
       "      <td>4.638236e+02</td>\n",
       "    </tr>\n",
       "    <tr>\n",
       "      <th>20</th>\n",
       "      <td>lost_reason_not interested</td>\n",
       "      <td>4.400640e+02</td>\n",
       "    </tr>\n",
       "    <tr>\n",
       "      <th>...</th>\n",
       "      <td>...</td>\n",
       "      <td>...</td>\n",
       "    </tr>\n",
       "    <tr>\n",
       "      <th>5017</th>\n",
       "      <td>source_city_8b8bbd9fee6df61735e1b380be1f57d181...</td>\n",
       "      <td>7.946617e-05</td>\n",
       "    </tr>\n",
       "    <tr>\n",
       "      <th>7193</th>\n",
       "      <td>utm_medium_12fbf873f9dfa63a41270793b2d4ea4f218...</td>\n",
       "      <td>7.946617e-05</td>\n",
       "    </tr>\n",
       "    <tr>\n",
       "      <th>7074</th>\n",
       "      <td>source_country_9703d44c38351aa38679e254b5e6d19...</td>\n",
       "      <td>7.946617e-05</td>\n",
       "    </tr>\n",
       "    <tr>\n",
       "      <th>4587</th>\n",
       "      <td>source_city_70af65c90d5642c0a1ebcb20d01cd0e8f2...</td>\n",
       "      <td>6.785080e-05</td>\n",
       "    </tr>\n",
       "    <tr>\n",
       "      <th>7027</th>\n",
       "      <td>source_country_5a53216d9f388a3d2068237617cf565...</td>\n",
       "      <td>7.545317e-07</td>\n",
       "    </tr>\n",
       "  </tbody>\n",
       "</table>\n",
       "<p>7488 rows × 2 columns</p>\n",
       "</div>"
      ],
      "text/plain": [
       "                                              Attribute         Score\n",
       "15                         lost_reason_low availability  6.884663e+03\n",
       "7162  utm_source_44574c4ba2ea74ad4bf1e184133cdbf4e73...  1.263674e+03\n",
       "21                           lost_reason_not responding  5.277110e+02\n",
       "1875                                           lease_51  4.638236e+02\n",
       "20                           lost_reason_not interested  4.400640e+02\n",
       "...                                                 ...           ...\n",
       "5017  source_city_8b8bbd9fee6df61735e1b380be1f57d181...  7.946617e-05\n",
       "7193  utm_medium_12fbf873f9dfa63a41270793b2d4ea4f218...  7.946617e-05\n",
       "7074  source_country_9703d44c38351aa38679e254b5e6d19...  7.946617e-05\n",
       "4587  source_city_70af65c90d5642c0a1ebcb20d01cd0e8f2...  6.785080e-05\n",
       "7027  source_country_5a53216d9f388a3d2068237617cf565...  7.545317e-07\n",
       "\n",
       "[7488 rows x 2 columns]"
      ]
     },
     "execution_count": 45,
     "metadata": {},
     "output_type": "execute_result"
    }
   ],
   "source": [
    "chi_scores.sort_values(by='Score',ascending=False)"
   ]
  },
  {
   "cell_type": "markdown",
   "id": "fc4d9d74",
   "metadata": {},
   "source": [
    "##### Observation:\n",
    "\n",
    "Above information shows that features and their corresponding score. By selecting the features according their corresponig score we will train the best model. Here i am not selecting any feature based on particular threshold value, instead i am proceeding with all features.\n",
    "\n",
    "Not only above one, but also mutual_info_classif, information gain, Recursive Feature Elimination also can be used to select the best feature to train the model. Calculate all of the tests will take more processing time. So that, we will do them later."
   ]
  },
  {
   "cell_type": "markdown",
   "id": "57b18f4a",
   "metadata": {},
   "source": [
    "### Train_Test_Split"
   ]
  },
  {
   "cell_type": "code",
   "execution_count": 46,
   "id": "a098de64",
   "metadata": {},
   "outputs": [],
   "source": [
    "from sklearn.model_selection import train_test_split"
   ]
  },
  {
   "cell_type": "code",
   "execution_count": 47,
   "id": "72104e78",
   "metadata": {},
   "outputs": [],
   "source": [
    "x_train,x_test,y_train,y_test = train_test_split(dummy_df,rep_nan[\"status\"],random_state=42,test_size=0.30)"
   ]
  },
  {
   "cell_type": "code",
   "execution_count": 48,
   "id": "d4adf991",
   "metadata": {},
   "outputs": [
    {
     "data": {
      "text/plain": [
       "((28961, 7488), (12413, 7488), (28961,), (12413,))"
      ]
     },
     "execution_count": 48,
     "metadata": {},
     "output_type": "execute_result"
    }
   ],
   "source": [
    "x_train.shape,x_test.shape,y_train.shape,y_test.shape"
   ]
  },
  {
   "cell_type": "markdown",
   "id": "4275262e",
   "metadata": {},
   "source": [
    "### Balancing the imbalanced dataset using SMOTE Technique"
   ]
  },
  {
   "cell_type": "code",
   "execution_count": 49,
   "id": "8f1d9b13",
   "metadata": {},
   "outputs": [],
   "source": [
    "from imblearn.over_sampling import SMOTE"
   ]
  },
  {
   "cell_type": "code",
   "execution_count": 50,
   "id": "46399711",
   "metadata": {},
   "outputs": [],
   "source": [
    "smote = SMOTE()"
   ]
  },
  {
   "cell_type": "code",
   "execution_count": 51,
   "id": "b8c8eeff",
   "metadata": {},
   "outputs": [],
   "source": [
    "x_train,y_train = smote.fit_resample(x_train,y_train)\n",
    "x_test,y_test = smote.fit_resample(x_test,y_test)"
   ]
  },
  {
   "cell_type": "code",
   "execution_count": 52,
   "id": "0ce39bcb",
   "metadata": {},
   "outputs": [
    {
     "name": "stdout",
     "output_type": "stream",
     "text": [
      "(53820, 7488) (23068, 7488) (53820,) (23068,)\n"
     ]
    }
   ],
   "source": [
    "print(x_train.shape,x_test.shape,y_train.shape,y_test.shape)"
   ]
  },
  {
   "cell_type": "markdown",
   "id": "23b92e61",
   "metadata": {},
   "source": [
    "### MODEL BULDING"
   ]
  },
  {
   "cell_type": "markdown",
   "id": "c4d637cc",
   "metadata": {},
   "source": [
    "### 1.Logistic Regrssion"
   ]
  },
  {
   "cell_type": "code",
   "execution_count": 53,
   "id": "cf7b1f9d",
   "metadata": {},
   "outputs": [
    {
     "data": {
      "text/html": [
       "<style>#sk-container-id-1 {color: black;background-color: white;}#sk-container-id-1 pre{padding: 0;}#sk-container-id-1 div.sk-toggleable {background-color: white;}#sk-container-id-1 label.sk-toggleable__label {cursor: pointer;display: block;width: 100%;margin-bottom: 0;padding: 0.3em;box-sizing: border-box;text-align: center;}#sk-container-id-1 label.sk-toggleable__label-arrow:before {content: \"▸\";float: left;margin-right: 0.25em;color: #696969;}#sk-container-id-1 label.sk-toggleable__label-arrow:hover:before {color: black;}#sk-container-id-1 div.sk-estimator:hover label.sk-toggleable__label-arrow:before {color: black;}#sk-container-id-1 div.sk-toggleable__content {max-height: 0;max-width: 0;overflow: hidden;text-align: left;background-color: #f0f8ff;}#sk-container-id-1 div.sk-toggleable__content pre {margin: 0.2em;color: black;border-radius: 0.25em;background-color: #f0f8ff;}#sk-container-id-1 input.sk-toggleable__control:checked~div.sk-toggleable__content {max-height: 200px;max-width: 100%;overflow: auto;}#sk-container-id-1 input.sk-toggleable__control:checked~label.sk-toggleable__label-arrow:before {content: \"▾\";}#sk-container-id-1 div.sk-estimator input.sk-toggleable__control:checked~label.sk-toggleable__label {background-color: #d4ebff;}#sk-container-id-1 div.sk-label input.sk-toggleable__control:checked~label.sk-toggleable__label {background-color: #d4ebff;}#sk-container-id-1 input.sk-hidden--visually {border: 0;clip: rect(1px 1px 1px 1px);clip: rect(1px, 1px, 1px, 1px);height: 1px;margin: -1px;overflow: hidden;padding: 0;position: absolute;width: 1px;}#sk-container-id-1 div.sk-estimator {font-family: monospace;background-color: #f0f8ff;border: 1px dotted black;border-radius: 0.25em;box-sizing: border-box;margin-bottom: 0.5em;}#sk-container-id-1 div.sk-estimator:hover {background-color: #d4ebff;}#sk-container-id-1 div.sk-parallel-item::after {content: \"\";width: 100%;border-bottom: 1px solid gray;flex-grow: 1;}#sk-container-id-1 div.sk-label:hover label.sk-toggleable__label {background-color: #d4ebff;}#sk-container-id-1 div.sk-serial::before {content: \"\";position: absolute;border-left: 1px solid gray;box-sizing: border-box;top: 0;bottom: 0;left: 50%;z-index: 0;}#sk-container-id-1 div.sk-serial {display: flex;flex-direction: column;align-items: center;background-color: white;padding-right: 0.2em;padding-left: 0.2em;position: relative;}#sk-container-id-1 div.sk-item {position: relative;z-index: 1;}#sk-container-id-1 div.sk-parallel {display: flex;align-items: stretch;justify-content: center;background-color: white;position: relative;}#sk-container-id-1 div.sk-item::before, #sk-container-id-1 div.sk-parallel-item::before {content: \"\";position: absolute;border-left: 1px solid gray;box-sizing: border-box;top: 0;bottom: 0;left: 50%;z-index: -1;}#sk-container-id-1 div.sk-parallel-item {display: flex;flex-direction: column;z-index: 1;position: relative;background-color: white;}#sk-container-id-1 div.sk-parallel-item:first-child::after {align-self: flex-end;width: 50%;}#sk-container-id-1 div.sk-parallel-item:last-child::after {align-self: flex-start;width: 50%;}#sk-container-id-1 div.sk-parallel-item:only-child::after {width: 0;}#sk-container-id-1 div.sk-dashed-wrapped {border: 1px dashed gray;margin: 0 0.4em 0.5em 0.4em;box-sizing: border-box;padding-bottom: 0.4em;background-color: white;}#sk-container-id-1 div.sk-label label {font-family: monospace;font-weight: bold;display: inline-block;line-height: 1.2em;}#sk-container-id-1 div.sk-label-container {text-align: center;}#sk-container-id-1 div.sk-container {/* jupyter's `normalize.less` sets `[hidden] { display: none; }` but bootstrap.min.css set `[hidden] { display: none !important; }` so we also need the `!important` here to be able to override the default hidden behavior on the sphinx rendered scikit-learn.org. See: https://github.com/scikit-learn/scikit-learn/issues/21755 */display: inline-block !important;position: relative;}#sk-container-id-1 div.sk-text-repr-fallback {display: none;}</style><div id=\"sk-container-id-1\" class=\"sk-top-container\"><div class=\"sk-text-repr-fallback\"><pre>LogisticRegression(random_state=0)</pre><b>In a Jupyter environment, please rerun this cell to show the HTML representation or trust the notebook. <br />On GitHub, the HTML representation is unable to render, please try loading this page with nbviewer.org.</b></div><div class=\"sk-container\" hidden><div class=\"sk-item\"><div class=\"sk-estimator sk-toggleable\"><input class=\"sk-toggleable__control sk-hidden--visually\" id=\"sk-estimator-id-1\" type=\"checkbox\" checked><label for=\"sk-estimator-id-1\" class=\"sk-toggleable__label sk-toggleable__label-arrow\">LogisticRegression</label><div class=\"sk-toggleable__content\"><pre>LogisticRegression(random_state=0)</pre></div></div></div></div></div>"
      ],
      "text/plain": [
       "LogisticRegression(random_state=0)"
      ]
     },
     "execution_count": 53,
     "metadata": {},
     "output_type": "execute_result"
    }
   ],
   "source": [
    "from sklearn.linear_model import LogisticRegression\n",
    "model1 = LogisticRegression(solver = 'lbfgs', random_state = 0)\n",
    "model1.fit(x_train, y_train)"
   ]
  },
  {
   "cell_type": "code",
   "execution_count": 54,
   "id": "d7ba36e8",
   "metadata": {},
   "outputs": [],
   "source": [
    "y_pred = model1.predict(x_test)"
   ]
  },
  {
   "cell_type": "markdown",
   "id": "4b01e011",
   "metadata": {},
   "source": [
    "##### Calculating Confusion matrix and Other Scores"
   ]
  },
  {
   "cell_type": "code",
   "execution_count": 55,
   "id": "2351f649",
   "metadata": {},
   "outputs": [
    {
     "data": {
      "text/plain": [
       "array([11415,   119,   563, 10971], dtype=int64)"
      ]
     },
     "execution_count": 55,
     "metadata": {},
     "output_type": "execute_result"
    }
   ],
   "source": [
    "from sklearn.metrics import confusion_matrix\n",
    "cm1 = confusion_matrix(y_test, y_pred)                     # Confusion Matrix\n",
    "cm1.ravel()"
   ]
  },
  {
   "cell_type": "code",
   "execution_count": 56,
   "id": "1dbc4bc1",
   "metadata": {},
   "outputs": [],
   "source": [
    "from sklearn.metrics import log_loss\n",
    "logloss1 = log_loss(y_test, y_pred)                        # Log_loss Score"
   ]
  },
  {
   "cell_type": "code",
   "execution_count": 57,
   "id": "0a2fe971",
   "metadata": {},
   "outputs": [],
   "source": [
    "from sklearn.metrics import accuracy_score                 # Accuracy_Score\n",
    "ac1 = accuracy_score(y_test, y_pred)"
   ]
  },
  {
   "cell_type": "code",
   "execution_count": 58,
   "id": "25cb79bb",
   "metadata": {},
   "outputs": [],
   "source": [
    "from sklearn import metrics                                # Precision_Score\n",
    "precision_positive1 = metrics.precision_score(y_test, y_pred, pos_label = 1)\n",
    "precision_negative1 = metrics.precision_score(y_test, y_pred, pos_label = 0)"
   ]
  },
  {
   "cell_type": "code",
   "execution_count": 59,
   "id": "4107bba7",
   "metadata": {},
   "outputs": [],
   "source": [
    "recall_sensitivity1 = metrics.recall_score(y_test, y_pred, pos_label = 1)  # Recall_Score\n",
    "recall_specificity1 = metrics.recall_score(y_test, y_pred, pos_label = 0)"
   ]
  },
  {
   "cell_type": "code",
   "execution_count": 60,
   "id": "16ab7038",
   "metadata": {},
   "outputs": [],
   "source": [
    "f1_positive1 = metrics.f1_score(y_test, y_pred, pos_label = 1)            # f1_Score\n",
    "f1_negative1 = metrics.f1_score(y_test, y_pred, pos_label = 0)"
   ]
  },
  {
   "cell_type": "markdown",
   "id": "b5abca55",
   "metadata": {},
   "source": [
    "###### For ROC and AUC"
   ]
  },
  {
   "cell_type": "code",
   "execution_count": 61,
   "id": "6186fa78",
   "metadata": {},
   "outputs": [],
   "source": [
    "# calculate the fpr and tpr for all thresholds of the classification\n",
    "probs = model1.predict_proba(x_test)\n",
    "preds = probs[:,1]\n",
    "fpr, tpr, threshold = metrics.roc_curve(y_test, preds)\n",
    "roc_auc = metrics.auc(fpr, tpr)"
   ]
  },
  {
   "cell_type": "code",
   "execution_count": 62,
   "id": "c85ab059",
   "metadata": {},
   "outputs": [
    {
     "data": {
      "image/png": "[encoded data removed]",
      "text/plain": [
       "<Figure size 600x400 with 1 Axes>"
      ]
     },
     "metadata": {},
     "output_type": "display_data"
    }
   ],
   "source": [
    "import matplotlib.pyplot as plt\n",
    "plt.figure(figsize=(6,4))\n",
    "plt.title('Receiver Operating Characteristic')\n",
    "plt.plot(fpr, tpr, 'b', label = 'AUC = %0.2f' % roc_auc)\n",
    "plt.legend(loc = 'lower right')\n",
    "plt.plot([0, 1], [0, 1],'r--')\n",
    "plt.xlim([0, 1])\n",
    "plt.ylim([0, 1])\n",
    "plt.ylabel('True Positive Rate')\n",
    "plt.xlabel('False Positive Rate')\n",
    "plt.show()"
   ]
  },
  {
   "cell_type": "code",
   "execution_count": 63,
   "id": "2355f839",
   "metadata": {},
   "outputs": [],
   "source": [
    "# auc Score\n",
    "from sklearn.metrics import roc_auc_score\n",
    "auc_score1 = roc_auc_score(y_test, preds)"
   ]
  },
  {
   "cell_type": "markdown",
   "id": "94937bcd",
   "metadata": {},
   "source": [
    "### 2.K-Neighbors Classifier"
   ]
  },
  {
   "cell_type": "code",
   "execution_count": 64,
   "id": "24fbb6a8",
   "metadata": {},
   "outputs": [],
   "source": [
    "from sklearn.neighbors import KNeighborsClassifier\n",
    "model2 = KNeighborsClassifier(n_neighbors = 11)\n",
    "model2.fit(x_train, y_train)\n",
    "y_pred = model2.predict(x_test)"
   ]
  },
  {
   "cell_type": "markdown",
   "id": "8496f4e5",
   "metadata": {},
   "source": [
    "##### Calculating Confusion matrix and Other Scores"
   ]
  },
  {
   "cell_type": "code",
   "execution_count": 65,
   "id": "19b94312",
   "metadata": {},
   "outputs": [
    {
     "data": {
      "text/plain": [
       "array([11463,    71,  1060, 10474], dtype=int64)"
      ]
     },
     "execution_count": 65,
     "metadata": {},
     "output_type": "execute_result"
    }
   ],
   "source": [
    "# Confusion Matrix\n",
    "cm2 = confusion_matrix(y_test, y_pred)            \n",
    "cm2.ravel()"
   ]
  },
  {
   "cell_type": "code",
   "execution_count": 66,
   "id": "3e4a2c41",
   "metadata": {},
   "outputs": [],
   "source": [
    "# Log_loss Score\n",
    "logloss2 = log_loss(y_test, y_pred)"
   ]
  },
  {
   "cell_type": "code",
   "execution_count": 67,
   "id": "c40f69d4",
   "metadata": {},
   "outputs": [],
   "source": [
    "# Accuracy_Score\n",
    "ac2 = accuracy_score(y_test, y_pred)"
   ]
  },
  {
   "cell_type": "code",
   "execution_count": 68,
   "id": "9affd522",
   "metadata": {},
   "outputs": [],
   "source": [
    "# Precision_Score\n",
    "precision_positive2 = metrics.precision_score(y_test, y_pred, pos_label = 1)\n",
    "precision_negative2 = metrics.precision_score(y_test, y_pred, pos_label = 0)"
   ]
  },
  {
   "cell_type": "code",
   "execution_count": 69,
   "id": "6c3faf84",
   "metadata": {},
   "outputs": [],
   "source": [
    "# Recall_Score\n",
    "recall_sensitivity2 = metrics.recall_score(y_test, y_pred, pos_label = 1)  \n",
    "recall_specificity2 = metrics.recall_score(y_test, y_pred, pos_label = 0)"
   ]
  },
  {
   "cell_type": "code",
   "execution_count": 70,
   "id": "a3762039",
   "metadata": {},
   "outputs": [],
   "source": [
    "# f1_Score\n",
    "f1_positive2 = metrics.f1_score(y_test, y_pred, pos_label = 1)            \n",
    "f1_negative2 = metrics.f1_score(y_test, y_pred, pos_label = 0)"
   ]
  },
  {
   "cell_type": "markdown",
   "id": "ead412c6",
   "metadata": {},
   "source": [
    "###### For ROC and AUC"
   ]
  },
  {
   "cell_type": "code",
   "execution_count": 71,
   "id": "5884678a",
   "metadata": {},
   "outputs": [],
   "source": [
    "# calculate the fpr and tpr for all thresholds of the classification\n",
    "probs = model2.predict_proba(x_test)\n",
    "preds = probs[:,1]\n",
    "fpr, tpr, threshold = metrics.roc_curve(y_test, preds)\n",
    "roc_auc = metrics.auc(fpr, tpr)"
   ]
  },
  {
   "cell_type": "code",
   "execution_count": 72,
   "id": "2549dcca",
   "metadata": {},
   "outputs": [
    {
     "data": {
      "image/png": "[encoded data removed]",
      "text/plain": [
       "<Figure size 600x400 with 1 Axes>"
      ]
     },
     "metadata": {},
     "output_type": "display_data"
    }
   ],
   "source": [
    "import matplotlib.pyplot as plt\n",
    "plt.figure(figsize=(6,4))\n",
    "plt.title('Receiver Operating Characteristic')\n",
    "plt.plot(fpr, tpr, 'b', label = 'AUC = %0.2f' % roc_auc)\n",
    "plt.legend(loc = 'lower right')\n",
    "plt.plot([0, 1], [0, 1],'r--')\n",
    "plt.xlim([0, 1])\n",
    "plt.ylim([0, 1])\n",
    "plt.ylabel('True Positive Rate')\n",
    "plt.xlabel('False Positive Rate')\n",
    "plt.show()"
   ]
  },
  {
   "cell_type": "code",
   "execution_count": 73,
   "id": "0e9da007",
   "metadata": {},
   "outputs": [],
   "source": [
    "# auc Score\n",
    "auc_score2 = roc_auc_score(y_test, preds)"
   ]
  },
  {
   "cell_type": "markdown",
   "id": "a3a5fedf",
   "metadata": {},
   "source": [
    "### 3.Naive Bayes Classifier"
   ]
  },
  {
   "cell_type": "code",
   "execution_count": 74,
   "id": "fd137127",
   "metadata": {},
   "outputs": [
    {
     "data": {
      "text/html": [
       "<style>#sk-container-id-2 {color: black;background-color: white;}#sk-container-id-2 pre{padding: 0;}#sk-container-id-2 div.sk-toggleable {background-color: white;}#sk-container-id-2 label.sk-toggleable__label {cursor: pointer;display: block;width: 100%;margin-bottom: 0;padding: 0.3em;box-sizing: border-box;text-align: center;}#sk-container-id-2 label.sk-toggleable__label-arrow:before {content: \"▸\";float: left;margin-right: 0.25em;color: #696969;}#sk-container-id-2 label.sk-toggleable__label-arrow:hover:before {color: black;}#sk-container-id-2 div.sk-estimator:hover label.sk-toggleable__label-arrow:before {color: black;}#sk-container-id-2 div.sk-toggleable__content {max-height: 0;max-width: 0;overflow: hidden;text-align: left;background-color: #f0f8ff;}#sk-container-id-2 div.sk-toggleable__content pre {margin: 0.2em;color: black;border-radius: 0.25em;background-color: #f0f8ff;}#sk-container-id-2 input.sk-toggleable__control:checked~div.sk-toggleable__content {max-height: 200px;max-width: 100%;overflow: auto;}#sk-container-id-2 input.sk-toggleable__control:checked~label.sk-toggleable__label-arrow:before {content: \"▾\";}#sk-container-id-2 div.sk-estimator input.sk-toggleable__control:checked~label.sk-toggleable__label {background-color: #d4ebff;}#sk-container-id-2 div.sk-label input.sk-toggleable__control:checked~label.sk-toggleable__label {background-color: #d4ebff;}#sk-container-id-2 input.sk-hidden--visually {border: 0;clip: rect(1px 1px 1px 1px);clip: rect(1px, 1px, 1px, 1px);height: 1px;margin: -1px;overflow: hidden;padding: 0;position: absolute;width: 1px;}#sk-container-id-2 div.sk-estimator {font-family: monospace;background-color: #f0f8ff;border: 1px dotted black;border-radius: 0.25em;box-sizing: border-box;margin-bottom: 0.5em;}#sk-container-id-2 div.sk-estimator:hover {background-color: #d4ebff;}#sk-container-id-2 div.sk-parallel-item::after {content: \"\";width: 100%;border-bottom: 1px solid gray;flex-grow: 1;}#sk-container-id-2 div.sk-label:hover label.sk-toggleable__label {background-color: #d4ebff;}#sk-container-id-2 div.sk-serial::before {content: \"\";position: absolute;border-left: 1px solid gray;box-sizing: border-box;top: 0;bottom: 0;left: 50%;z-index: 0;}#sk-container-id-2 div.sk-serial {display: flex;flex-direction: column;align-items: center;background-color: white;padding-right: 0.2em;padding-left: 0.2em;position: relative;}#sk-container-id-2 div.sk-item {position: relative;z-index: 1;}#sk-container-id-2 div.sk-parallel {display: flex;align-items: stretch;justify-content: center;background-color: white;position: relative;}#sk-container-id-2 div.sk-item::before, #sk-container-id-2 div.sk-parallel-item::before {content: \"\";position: absolute;border-left: 1px solid gray;box-sizing: border-box;top: 0;bottom: 0;left: 50%;z-index: -1;}#sk-container-id-2 div.sk-parallel-item {display: flex;flex-direction: column;z-index: 1;position: relative;background-color: white;}#sk-container-id-2 div.sk-parallel-item:first-child::after {align-self: flex-end;width: 50%;}#sk-container-id-2 div.sk-parallel-item:last-child::after {align-self: flex-start;width: 50%;}#sk-container-id-2 div.sk-parallel-item:only-child::after {width: 0;}#sk-container-id-2 div.sk-dashed-wrapped {border: 1px dashed gray;margin: 0 0.4em 0.5em 0.4em;box-sizing: border-box;padding-bottom: 0.4em;background-color: white;}#sk-container-id-2 div.sk-label label {font-family: monospace;font-weight: bold;display: inline-block;line-height: 1.2em;}#sk-container-id-2 div.sk-label-container {text-align: center;}#sk-container-id-2 div.sk-container {/* jupyter's `normalize.less` sets `[hidden] { display: none; }` but bootstrap.min.css set `[hidden] { display: none !important; }` so we also need the `!important` here to be able to override the default hidden behavior on the sphinx rendered scikit-learn.org. See: https://github.com/scikit-learn/scikit-learn/issues/21755 */display: inline-block !important;position: relative;}#sk-container-id-2 div.sk-text-repr-fallback {display: none;}</style><div id=\"sk-container-id-2\" class=\"sk-top-container\"><div class=\"sk-text-repr-fallback\"><pre>GaussianNB()</pre><b>In a Jupyter environment, please rerun this cell to show the HTML representation or trust the notebook. <br />On GitHub, the HTML representation is unable to render, please try loading this page with nbviewer.org.</b></div><div class=\"sk-container\" hidden><div class=\"sk-item\"><div class=\"sk-estimator sk-toggleable\"><input class=\"sk-toggleable__control sk-hidden--visually\" id=\"sk-estimator-id-2\" type=\"checkbox\" checked><label for=\"sk-estimator-id-2\" class=\"sk-toggleable__label sk-toggleable__label-arrow\">GaussianNB</label><div class=\"sk-toggleable__content\"><pre>GaussianNB()</pre></div></div></div></div></div>"
      ],
      "text/plain": [
       "GaussianNB()"
      ]
     },
     "execution_count": 74,
     "metadata": {},
     "output_type": "execute_result"
    }
   ],
   "source": [
    "from sklearn.naive_bayes import GaussianNB\n",
    "model3 = GaussianNB()\n",
    "model3.fit(x_train, y_train)"
   ]
  },
  {
   "cell_type": "code",
   "execution_count": 75,
   "id": "aabc1d25",
   "metadata": {},
   "outputs": [],
   "source": [
    "y_pred = model3.predict(x_test)"
   ]
  },
  {
   "cell_type": "markdown",
   "id": "0da0a29d",
   "metadata": {},
   "source": [
    "##### Calculating Confusion matrix and Other Scores"
   ]
  },
  {
   "cell_type": "code",
   "execution_count": 76,
   "id": "9988d73c",
   "metadata": {},
   "outputs": [
    {
     "data": {
      "text/plain": [
       "array([10362,  1172,  2390,  9144], dtype=int64)"
      ]
     },
     "execution_count": 76,
     "metadata": {},
     "output_type": "execute_result"
    }
   ],
   "source": [
    "cm3 = confusion_matrix(y_test, y_pred)\n",
    "cm3.ravel()"
   ]
  },
  {
   "cell_type": "code",
   "execution_count": 77,
   "id": "6dc4b9f8",
   "metadata": {},
   "outputs": [],
   "source": [
    "  # Log_loss Score\n",
    "logloss3 = log_loss(y_test, y_pred)                      "
   ]
  },
  {
   "cell_type": "code",
   "execution_count": 78,
   "id": "80365259",
   "metadata": {},
   "outputs": [],
   "source": [
    "# Accuracy_Score\n",
    "ac3 = accuracy_score(y_test, y_pred)"
   ]
  },
  {
   "cell_type": "code",
   "execution_count": 79,
   "id": "0b0b8682",
   "metadata": {},
   "outputs": [],
   "source": [
    "# Precision_Score\n",
    "precision_positive3 = metrics.precision_score(y_test, y_pred, pos_label = 1)\n",
    "precision_negative3 = metrics.precision_score(y_test, y_pred, pos_label = 0)"
   ]
  },
  {
   "cell_type": "code",
   "execution_count": 80,
   "id": "1e5a7a4b",
   "metadata": {},
   "outputs": [],
   "source": [
    "# Recall_Score\n",
    "recall_sensitivity3 = metrics.recall_score(y_test, y_pred, pos_label = 1)  \n",
    "recall_specificity3 = metrics.recall_score(y_test, y_pred, pos_label = 0)"
   ]
  },
  {
   "cell_type": "code",
   "execution_count": 81,
   "id": "de7b6303",
   "metadata": {},
   "outputs": [],
   "source": [
    "# f1_Score\n",
    "f1_positive3 = metrics.f1_score(y_test, y_pred, pos_label = 1)            \n",
    "f1_negative3 = metrics.f1_score(y_test, y_pred, pos_label = 0)"
   ]
  },
  {
   "cell_type": "markdown",
   "id": "879ae612",
   "metadata": {},
   "source": [
    "###### For ROC and AUC"
   ]
  },
  {
   "cell_type": "code",
   "execution_count": 82,
   "id": "260a1bb6",
   "metadata": {},
   "outputs": [],
   "source": [
    "# calculate the fpr and tpr for all thresholds of the classification\n",
    "probs = model3.predict_proba(x_test)\n",
    "preds = probs[:,1]\n",
    "fpr, tpr, threshold = metrics.roc_curve(y_test, preds)\n",
    "roc_auc = metrics.auc(fpr, tpr)"
   ]
  },
  {
   "cell_type": "code",
   "execution_count": 83,
   "id": "45dbee46",
   "metadata": {},
   "outputs": [
    {
     "data": {
      "image/png": "[encoded data removed]",
      "text/plain": [
       "<Figure size 600x400 with 1 Axes>"
      ]
     },
     "metadata": {},
     "output_type": "display_data"
    }
   ],
   "source": [
    "import matplotlib.pyplot as plt\n",
    "plt.figure(figsize=(6,4))\n",
    "\n",
    "plt.title('Receiver Operating Characteristic')\n",
    "plt.plot(fpr, tpr, 'b', label = 'AUC = %0.2f' % roc_auc)\n",
    "plt.legend(loc = 'lower right')\n",
    "plt.plot([0, 1], [0, 1],'r--')\n",
    "plt.xlim([0, 1])\n",
    "plt.ylim([0, 1])\n",
    "plt.ylabel('True Positive Rate')\n",
    "plt.xlabel('False Positive Rate')\n",
    "plt.show()"
   ]
  },
  {
   "cell_type": "code",
   "execution_count": 84,
   "id": "64b741e4",
   "metadata": {},
   "outputs": [],
   "source": [
    "# auc Score\n",
    "auc_score3 = roc_auc_score(y_test, preds)"
   ]
  },
  {
   "cell_type": "markdown",
   "id": "222766c8",
   "metadata": {},
   "source": [
    "### 4.Support Vector Classifier"
   ]
  },
  {
   "cell_type": "code",
   "execution_count": 85,
   "id": "8422db2c",
   "metadata": {},
   "outputs": [],
   "source": [
    "from sklearn.svm import SVC\n",
    "model4 = SVC(kernel = 'rbf', probability=True)"
   ]
  },
  {
   "cell_type": "code",
   "execution_count": 86,
   "id": "e16d7c04",
   "metadata": {},
   "outputs": [
    {
     "data": {
      "text/html": [
       "<style>#sk-container-id-3 {color: black;background-color: white;}#sk-container-id-3 pre{padding: 0;}#sk-container-id-3 div.sk-toggleable {background-color: white;}#sk-container-id-3 label.sk-toggleable__label {cursor: pointer;display: block;width: 100%;margin-bottom: 0;padding: 0.3em;box-sizing: border-box;text-align: center;}#sk-container-id-3 label.sk-toggleable__label-arrow:before {content: \"▸\";float: left;margin-right: 0.25em;color: #696969;}#sk-container-id-3 label.sk-toggleable__label-arrow:hover:before {color: black;}#sk-container-id-3 div.sk-estimator:hover label.sk-toggleable__label-arrow:before {color: black;}#sk-container-id-3 div.sk-toggleable__content {max-height: 0;max-width: 0;overflow: hidden;text-align: left;background-color: #f0f8ff;}#sk-container-id-3 div.sk-toggleable__content pre {margin: 0.2em;color: black;border-radius: 0.25em;background-color: #f0f8ff;}#sk-container-id-3 input.sk-toggleable__control:checked~div.sk-toggleable__content {max-height: 200px;max-width: 100%;overflow: auto;}#sk-container-id-3 input.sk-toggleable__control:checked~label.sk-toggleable__label-arrow:before {content: \"▾\";}#sk-container-id-3 div.sk-estimator input.sk-toggleable__control:checked~label.sk-toggleable__label {background-color: #d4ebff;}#sk-container-id-3 div.sk-label input.sk-toggleable__control:checked~label.sk-toggleable__label {background-color: #d4ebff;}#sk-container-id-3 input.sk-hidden--visually {border: 0;clip: rect(1px 1px 1px 1px);clip: rect(1px, 1px, 1px, 1px);height: 1px;margin: -1px;overflow: hidden;padding: 0;position: absolute;width: 1px;}#sk-container-id-3 div.sk-estimator {font-family: monospace;background-color: #f0f8ff;border: 1px dotted black;border-radius: 0.25em;box-sizing: border-box;margin-bottom: 0.5em;}#sk-container-id-3 div.sk-estimator:hover {background-color: #d4ebff;}#sk-container-id-3 div.sk-parallel-item::after {content: \"\";width: 100%;border-bottom: 1px solid gray;flex-grow: 1;}#sk-container-id-3 div.sk-label:hover label.sk-toggleable__label {background-color: #d4ebff;}#sk-container-id-3 div.sk-serial::before {content: \"\";position: absolute;border-left: 1px solid gray;box-sizing: border-box;top: 0;bottom: 0;left: 50%;z-index: 0;}#sk-container-id-3 div.sk-serial {display: flex;flex-direction: column;align-items: center;background-color: white;padding-right: 0.2em;padding-left: 0.2em;position: relative;}#sk-container-id-3 div.sk-item {position: relative;z-index: 1;}#sk-container-id-3 div.sk-parallel {display: flex;align-items: stretch;justify-content: center;background-color: white;position: relative;}#sk-container-id-3 div.sk-item::before, #sk-container-id-3 div.sk-parallel-item::before {content: \"\";position: absolute;border-left: 1px solid gray;box-sizing: border-box;top: 0;bottom: 0;left: 50%;z-index: -1;}#sk-container-id-3 div.sk-parallel-item {display: flex;flex-direction: column;z-index: 1;position: relative;background-color: white;}#sk-container-id-3 div.sk-parallel-item:first-child::after {align-self: flex-end;width: 50%;}#sk-container-id-3 div.sk-parallel-item:last-child::after {align-self: flex-start;width: 50%;}#sk-container-id-3 div.sk-parallel-item:only-child::after {width: 0;}#sk-container-id-3 div.sk-dashed-wrapped {border: 1px dashed gray;margin: 0 0.4em 0.5em 0.4em;box-sizing: border-box;padding-bottom: 0.4em;background-color: white;}#sk-container-id-3 div.sk-label label {font-family: monospace;font-weight: bold;display: inline-block;line-height: 1.2em;}#sk-container-id-3 div.sk-label-container {text-align: center;}#sk-container-id-3 div.sk-container {/* jupyter's `normalize.less` sets `[hidden] { display: none; }` but bootstrap.min.css set `[hidden] { display: none !important; }` so we also need the `!important` here to be able to override the default hidden behavior on the sphinx rendered scikit-learn.org. See: https://github.com/scikit-learn/scikit-learn/issues/21755 */display: inline-block !important;position: relative;}#sk-container-id-3 div.sk-text-repr-fallback {display: none;}</style><div id=\"sk-container-id-3\" class=\"sk-top-container\"><div class=\"sk-text-repr-fallback\"><pre>SVC(probability=True)</pre><b>In a Jupyter environment, please rerun this cell to show the HTML representation or trust the notebook. <br />On GitHub, the HTML representation is unable to render, please try loading this page with nbviewer.org.</b></div><div class=\"sk-container\" hidden><div class=\"sk-item\"><div class=\"sk-estimator sk-toggleable\"><input class=\"sk-toggleable__control sk-hidden--visually\" id=\"sk-estimator-id-3\" type=\"checkbox\" checked><label for=\"sk-estimator-id-3\" class=\"sk-toggleable__label sk-toggleable__label-arrow\">SVC</label><div class=\"sk-toggleable__content\"><pre>SVC(probability=True)</pre></div></div></div></div></div>"
      ],
      "text/plain": [
       "SVC(probability=True)"
      ]
     },
     "execution_count": 86,
     "metadata": {},
     "output_type": "execute_result"
    }
   ],
   "source": [
    "model4.fit(x_train, y_train)"
   ]
  },
  {
   "cell_type": "code",
   "execution_count": 87,
   "id": "f6326b37",
   "metadata": {},
   "outputs": [],
   "source": [
    "y_pred = model4.predict(x_test)"
   ]
  },
  {
   "cell_type": "markdown",
   "id": "4e5b5c39",
   "metadata": {},
   "source": [
    "##### Calculating Confusion matrix and Other Scores"
   ]
  },
  {
   "cell_type": "code",
   "execution_count": 88,
   "id": "80a32192",
   "metadata": {},
   "outputs": [
    {
     "data": {
      "text/plain": [
       "array([11534,     0,  1417, 10117], dtype=int64)"
      ]
     },
     "execution_count": 88,
     "metadata": {},
     "output_type": "execute_result"
    }
   ],
   "source": [
    "cm4 = confusion_matrix(y_test, y_pred)\n",
    "cm4.ravel()"
   ]
  },
  {
   "cell_type": "code",
   "execution_count": 89,
   "id": "6c608252",
   "metadata": {},
   "outputs": [],
   "source": [
    "# Log_loss Score\n",
    "logloss4 = log_loss(y_test, y_pred)                      "
   ]
  },
  {
   "cell_type": "code",
   "execution_count": 90,
   "id": "82a193ef",
   "metadata": {},
   "outputs": [],
   "source": [
    "# Accuracy Score\n",
    "ac4 = accuracy_score(y_test, y_pred)"
   ]
  },
  {
   "cell_type": "code",
   "execution_count": 91,
   "id": "46d858f9",
   "metadata": {},
   "outputs": [],
   "source": [
    "# Precision Score\n",
    "precision_positive4 = metrics.precision_score(y_test, y_pred, pos_label = 1)\n",
    "precision_negative4 = metrics.precision_score(y_test, y_pred, pos_label = 0)"
   ]
  },
  {
   "cell_type": "code",
   "execution_count": 92,
   "id": "bffc2e9d",
   "metadata": {},
   "outputs": [],
   "source": [
    "# Recall_Score\n",
    "recall_sensitivity4 = metrics.recall_score(y_test, y_pred, pos_label = 1)  \n",
    "recall_specificity4 = metrics.recall_score(y_test, y_pred, pos_label = 0)"
   ]
  },
  {
   "cell_type": "code",
   "execution_count": 93,
   "id": "c6b7db3b",
   "metadata": {},
   "outputs": [],
   "source": [
    "# f1_Score\n",
    "f1_positive4 = metrics.f1_score(y_test, y_pred, pos_label = 1)            \n",
    "f1_negative4 = metrics.f1_score(y_test, y_pred, pos_label = 0)"
   ]
  },
  {
   "cell_type": "markdown",
   "id": "ba81d197",
   "metadata": {},
   "source": [
    "###### For ROC and AUC"
   ]
  },
  {
   "cell_type": "code",
   "execution_count": 94,
   "id": "784809f1",
   "metadata": {},
   "outputs": [],
   "source": [
    "# calculate the fpr and tpr for all thresholds of the classification\n",
    "probs = model4.predict_proba(x_test)"
   ]
  },
  {
   "cell_type": "code",
   "execution_count": 95,
   "id": "21083f4b",
   "metadata": {},
   "outputs": [],
   "source": [
    "roc_auc = metrics.auc(fpr, tpr)\n",
    "preds = probs[:,1]\n",
    "fpr, tpr, threshold = metrics.roc_curve(y_test, preds)\n",
    "roc_auc = metrics.auc(fpr, tpr)"
   ]
  },
  {
   "cell_type": "code",
   "execution_count": 96,
   "id": "628074a1",
   "metadata": {},
   "outputs": [
    {
     "data": {
      "image/png": "[encoded data removed]",
      "text/plain": [
       "<Figure size 600x400 with 1 Axes>"
      ]
     },
     "metadata": {},
     "output_type": "display_data"
    }
   ],
   "source": [
    "import matplotlib.pyplot as plt\n",
    "plt.figure(figsize=(6,4))\n",
    "plt.title('Receiver Operating Characteristic')\n",
    "plt.plot(fpr, tpr, 'b', label = 'AUC = %0.2f' % roc_auc)\n",
    "plt.legend(loc = 'lower right')\n",
    "plt.plot([0, 1], [0, 1],'r--')\n",
    "plt.xlim([0, 1])\n",
    "plt.ylim([0, 1])\n",
    "plt.ylabel('True Positive Rate')\n",
    "plt.xlabel('False Positive Rate')\n",
    "plt.show()"
   ]
  },
  {
   "cell_type": "code",
   "execution_count": 97,
   "id": "e6eb892f",
   "metadata": {},
   "outputs": [],
   "source": [
    "# auc Score\n",
    "auc_score4 = roc_auc_score(y_test, preds)"
   ]
  },
  {
   "cell_type": "markdown",
   "id": "7c4d4a29",
   "metadata": {},
   "source": [
    "### 5.Decision Tree Classifier"
   ]
  },
  {
   "cell_type": "code",
   "execution_count": 98,
   "id": "80e00951",
   "metadata": {},
   "outputs": [
    {
     "data": {
      "text/html": [
       "<style>#sk-container-id-4 {color: black;background-color: white;}#sk-container-id-4 pre{padding: 0;}#sk-container-id-4 div.sk-toggleable {background-color: white;}#sk-container-id-4 label.sk-toggleable__label {cursor: pointer;display: block;width: 100%;margin-bottom: 0;padding: 0.3em;box-sizing: border-box;text-align: center;}#sk-container-id-4 label.sk-toggleable__label-arrow:before {content: \"▸\";float: left;margin-right: 0.25em;color: #696969;}#sk-container-id-4 label.sk-toggleable__label-arrow:hover:before {color: black;}#sk-container-id-4 div.sk-estimator:hover label.sk-toggleable__label-arrow:before {color: black;}#sk-container-id-4 div.sk-toggleable__content {max-height: 0;max-width: 0;overflow: hidden;text-align: left;background-color: #f0f8ff;}#sk-container-id-4 div.sk-toggleable__content pre {margin: 0.2em;color: black;border-radius: 0.25em;background-color: #f0f8ff;}#sk-container-id-4 input.sk-toggleable__control:checked~div.sk-toggleable__content {max-height: 200px;max-width: 100%;overflow: auto;}#sk-container-id-4 input.sk-toggleable__control:checked~label.sk-toggleable__label-arrow:before {content: \"▾\";}#sk-container-id-4 div.sk-estimator input.sk-toggleable__control:checked~label.sk-toggleable__label {background-color: #d4ebff;}#sk-container-id-4 div.sk-label input.sk-toggleable__control:checked~label.sk-toggleable__label {background-color: #d4ebff;}#sk-container-id-4 input.sk-hidden--visually {border: 0;clip: rect(1px 1px 1px 1px);clip: rect(1px, 1px, 1px, 1px);height: 1px;margin: -1px;overflow: hidden;padding: 0;position: absolute;width: 1px;}#sk-container-id-4 div.sk-estimator {font-family: monospace;background-color: #f0f8ff;border: 1px dotted black;border-radius: 0.25em;box-sizing: border-box;margin-bottom: 0.5em;}#sk-container-id-4 div.sk-estimator:hover {background-color: #d4ebff;}#sk-container-id-4 div.sk-parallel-item::after {content: \"\";width: 100%;border-bottom: 1px solid gray;flex-grow: 1;}#sk-container-id-4 div.sk-label:hover label.sk-toggleable__label {background-color: #d4ebff;}#sk-container-id-4 div.sk-serial::before {content: \"\";position: absolute;border-left: 1px solid gray;box-sizing: border-box;top: 0;bottom: 0;left: 50%;z-index: 0;}#sk-container-id-4 div.sk-serial {display: flex;flex-direction: column;align-items: center;background-color: white;padding-right: 0.2em;padding-left: 0.2em;position: relative;}#sk-container-id-4 div.sk-item {position: relative;z-index: 1;}#sk-container-id-4 div.sk-parallel {display: flex;align-items: stretch;justify-content: center;background-color: white;position: relative;}#sk-container-id-4 div.sk-item::before, #sk-container-id-4 div.sk-parallel-item::before {content: \"\";position: absolute;border-left: 1px solid gray;box-sizing: border-box;top: 0;bottom: 0;left: 50%;z-index: -1;}#sk-container-id-4 div.sk-parallel-item {display: flex;flex-direction: column;z-index: 1;position: relative;background-color: white;}#sk-container-id-4 div.sk-parallel-item:first-child::after {align-self: flex-end;width: 50%;}#sk-container-id-4 div.sk-parallel-item:last-child::after {align-self: flex-start;width: 50%;}#sk-container-id-4 div.sk-parallel-item:only-child::after {width: 0;}#sk-container-id-4 div.sk-dashed-wrapped {border: 1px dashed gray;margin: 0 0.4em 0.5em 0.4em;box-sizing: border-box;padding-bottom: 0.4em;background-color: white;}#sk-container-id-4 div.sk-label label {font-family: monospace;font-weight: bold;display: inline-block;line-height: 1.2em;}#sk-container-id-4 div.sk-label-container {text-align: center;}#sk-container-id-4 div.sk-container {/* jupyter's `normalize.less` sets `[hidden] { display: none; }` but bootstrap.min.css set `[hidden] { display: none !important; }` so we also need the `!important` here to be able to override the default hidden behavior on the sphinx rendered scikit-learn.org. See: https://github.com/scikit-learn/scikit-learn/issues/21755 */display: inline-block !important;position: relative;}#sk-container-id-4 div.sk-text-repr-fallback {display: none;}</style><div id=\"sk-container-id-4\" class=\"sk-top-container\"><div class=\"sk-text-repr-fallback\"><pre>DecisionTreeClassifier(criterion=&#x27;entropy&#x27;)</pre><b>In a Jupyter environment, please rerun this cell to show the HTML representation or trust the notebook. <br />On GitHub, the HTML representation is unable to render, please try loading this page with nbviewer.org.</b></div><div class=\"sk-container\" hidden><div class=\"sk-item\"><div class=\"sk-estimator sk-toggleable\"><input class=\"sk-toggleable__control sk-hidden--visually\" id=\"sk-estimator-id-4\" type=\"checkbox\" checked><label for=\"sk-estimator-id-4\" class=\"sk-toggleable__label sk-toggleable__label-arrow\">DecisionTreeClassifier</label><div class=\"sk-toggleable__content\"><pre>DecisionTreeClassifier(criterion=&#x27;entropy&#x27;)</pre></div></div></div></div></div>"
      ],
      "text/plain": [
       "DecisionTreeClassifier(criterion='entropy')"
      ]
     },
     "execution_count": 98,
     "metadata": {},
     "output_type": "execute_result"
    }
   ],
   "source": [
    "from sklearn.tree import DecisionTreeClassifier\n",
    "model5 = DecisionTreeClassifier(criterion = 'entropy')\n",
    "model5.fit(x_train,y_train)"
   ]
  },
  {
   "cell_type": "code",
   "execution_count": 99,
   "id": "6f471c9c",
   "metadata": {},
   "outputs": [],
   "source": [
    "y_pred = model5.predict(x_test)"
   ]
  },
  {
   "cell_type": "markdown",
   "id": "b92f8054",
   "metadata": {},
   "source": [
    "##### Calculating Confusion matrix and Other Scores"
   ]
  },
  {
   "cell_type": "code",
   "execution_count": 100,
   "id": "7c98d7a1",
   "metadata": {},
   "outputs": [],
   "source": [
    "# Confusion_Matrix\n",
    "cm5 = confusion_matrix(y_test,y_pred)"
   ]
  },
  {
   "cell_type": "code",
   "execution_count": 101,
   "id": "4f6af57f",
   "metadata": {},
   "outputs": [],
   "source": [
    "# Log_loss Score\n",
    "logloss5 = log_loss(y_test, y_pred)                        "
   ]
  },
  {
   "cell_type": "code",
   "execution_count": 102,
   "id": "b9ba71de",
   "metadata": {},
   "outputs": [],
   "source": [
    "# Accuracy Score\n",
    "ac5 = accuracy_score(y_test, y_pred)"
   ]
  },
  {
   "cell_type": "code",
   "execution_count": 103,
   "id": "6775a7a9",
   "metadata": {},
   "outputs": [],
   "source": [
    "# Precision Score\n",
    "precision_positive5 = metrics.precision_score(y_test, y_pred, pos_label = 1)\n",
    "precision_negative5 = metrics.precision_score(y_test, y_pred, pos_label = 0)"
   ]
  },
  {
   "cell_type": "code",
   "execution_count": 104,
   "id": "403931e3",
   "metadata": {},
   "outputs": [],
   "source": [
    "# Recall_Score\n",
    "recall_sensitivity5 = metrics.recall_score(y_test, y_pred, pos_label = 1) \n",
    "recall_specificity5 = metrics.recall_score(y_test, y_pred, pos_label = 0)"
   ]
  },
  {
   "cell_type": "code",
   "execution_count": 105,
   "id": "6b7a48f5",
   "metadata": {},
   "outputs": [],
   "source": [
    "# f1_Score\n",
    "f1_positive5 = metrics.f1_score(y_test, y_pred, pos_label = 1)            \n",
    "f1_negative5 = metrics.f1_score(y_test, y_pred, pos_label = 0)"
   ]
  },
  {
   "cell_type": "markdown",
   "id": "2fd415fc",
   "metadata": {},
   "source": [
    "###### For ROC and AUC"
   ]
  },
  {
   "cell_type": "code",
   "execution_count": 106,
   "id": "edf0e3e5",
   "metadata": {},
   "outputs": [],
   "source": [
    "# calculate the fpr and tpr for all thresholds of the classification\n",
    "probs = model5.predict_proba(x_test)\n",
    "preds = probs[:,1]\n",
    "fpr, tpr, threshold = metrics.roc_curve(y_test, preds)\n",
    "roc_auc = metrics.auc(fpr, tpr)"
   ]
  },
  {
   "cell_type": "code",
   "execution_count": 107,
   "id": "17abe2dd",
   "metadata": {},
   "outputs": [
    {
     "data": {
      "image/png": "[encoded data removed]",
      "text/plain": [
       "<Figure size 600x400 with 1 Axes>"
      ]
     },
     "metadata": {},
     "output_type": "display_data"
    }
   ],
   "source": [
    "import matplotlib.pyplot as plt\n",
    "plt.figure(figsize=(6,4))\n",
    "plt.title('Receiver Operating Characteristic')\n",
    "plt.plot(fpr, tpr, 'b', label = 'AUC = %0.2f' % roc_auc)\n",
    "plt.legend(loc = 'lower right')\n",
    "plt.plot([0, 1], [0, 1],'r--')\n",
    "plt.xlim([0, 1])\n",
    "plt.ylim([0, 1])\n",
    "plt.ylabel('True Positive Rate')\n",
    "plt.xlabel('False Positive Rate')\n",
    "plt.show()"
   ]
  },
  {
   "cell_type": "code",
   "execution_count": 108,
   "id": "c4ea79f4",
   "metadata": {},
   "outputs": [],
   "source": [
    "# auc Score\n",
    "auc_score5 = roc_auc_score(y_test, preds)"
   ]
  },
  {
   "cell_type": "markdown",
   "id": "55eccf26",
   "metadata": {},
   "source": [
    "### 6.Random forest Classifier"
   ]
  },
  {
   "cell_type": "code",
   "execution_count": 109,
   "id": "a341884d",
   "metadata": {},
   "outputs": [
    {
     "data": {
      "text/html": [
       "<style>#sk-container-id-5 {color: black;background-color: white;}#sk-container-id-5 pre{padding: 0;}#sk-container-id-5 div.sk-toggleable {background-color: white;}#sk-container-id-5 label.sk-toggleable__label {cursor: pointer;display: block;width: 100%;margin-bottom: 0;padding: 0.3em;box-sizing: border-box;text-align: center;}#sk-container-id-5 label.sk-toggleable__label-arrow:before {content: \"▸\";float: left;margin-right: 0.25em;color: #696969;}#sk-container-id-5 label.sk-toggleable__label-arrow:hover:before {color: black;}#sk-container-id-5 div.sk-estimator:hover label.sk-toggleable__label-arrow:before {color: black;}#sk-container-id-5 div.sk-toggleable__content {max-height: 0;max-width: 0;overflow: hidden;text-align: left;background-color: #f0f8ff;}#sk-container-id-5 div.sk-toggleable__content pre {margin: 0.2em;color: black;border-radius: 0.25em;background-color: #f0f8ff;}#sk-container-id-5 input.sk-toggleable__control:checked~div.sk-toggleable__content {max-height: 200px;max-width: 100%;overflow: auto;}#sk-container-id-5 input.sk-toggleable__control:checked~label.sk-toggleable__label-arrow:before {content: \"▾\";}#sk-container-id-5 div.sk-estimator input.sk-toggleable__control:checked~label.sk-toggleable__label {background-color: #d4ebff;}#sk-container-id-5 div.sk-label input.sk-toggleable__control:checked~label.sk-toggleable__label {background-color: #d4ebff;}#sk-container-id-5 input.sk-hidden--visually {border: 0;clip: rect(1px 1px 1px 1px);clip: rect(1px, 1px, 1px, 1px);height: 1px;margin: -1px;overflow: hidden;padding: 0;position: absolute;width: 1px;}#sk-container-id-5 div.sk-estimator {font-family: monospace;background-color: #f0f8ff;border: 1px dotted black;border-radius: 0.25em;box-sizing: border-box;margin-bottom: 0.5em;}#sk-container-id-5 div.sk-estimator:hover {background-color: #d4ebff;}#sk-container-id-5 div.sk-parallel-item::after {content: \"\";width: 100%;border-bottom: 1px solid gray;flex-grow: 1;}#sk-container-id-5 div.sk-label:hover label.sk-toggleable__label {background-color: #d4ebff;}#sk-container-id-5 div.sk-serial::before {content: \"\";position: absolute;border-left: 1px solid gray;box-sizing: border-box;top: 0;bottom: 0;left: 50%;z-index: 0;}#sk-container-id-5 div.sk-serial {display: flex;flex-direction: column;align-items: center;background-color: white;padding-right: 0.2em;padding-left: 0.2em;position: relative;}#sk-container-id-5 div.sk-item {position: relative;z-index: 1;}#sk-container-id-5 div.sk-parallel {display: flex;align-items: stretch;justify-content: center;background-color: white;position: relative;}#sk-container-id-5 div.sk-item::before, #sk-container-id-5 div.sk-parallel-item::before {content: \"\";position: absolute;border-left: 1px solid gray;box-sizing: border-box;top: 0;bottom: 0;left: 50%;z-index: -1;}#sk-container-id-5 div.sk-parallel-item {display: flex;flex-direction: column;z-index: 1;position: relative;background-color: white;}#sk-container-id-5 div.sk-parallel-item:first-child::after {align-self: flex-end;width: 50%;}#sk-container-id-5 div.sk-parallel-item:last-child::after {align-self: flex-start;width: 50%;}#sk-container-id-5 div.sk-parallel-item:only-child::after {width: 0;}#sk-container-id-5 div.sk-dashed-wrapped {border: 1px dashed gray;margin: 0 0.4em 0.5em 0.4em;box-sizing: border-box;padding-bottom: 0.4em;background-color: white;}#sk-container-id-5 div.sk-label label {font-family: monospace;font-weight: bold;display: inline-block;line-height: 1.2em;}#sk-container-id-5 div.sk-label-container {text-align: center;}#sk-container-id-5 div.sk-container {/* jupyter's `normalize.less` sets `[hidden] { display: none; }` but bootstrap.min.css set `[hidden] { display: none !important; }` so we also need the `!important` here to be able to override the default hidden behavior on the sphinx rendered scikit-learn.org. See: https://github.com/scikit-learn/scikit-learn/issues/21755 */display: inline-block !important;position: relative;}#sk-container-id-5 div.sk-text-repr-fallback {display: none;}</style><div id=\"sk-container-id-5\" class=\"sk-top-container\"><div class=\"sk-text-repr-fallback\"><pre>RandomForestClassifier(criterion=&#x27;entropy&#x27;, n_estimators=10)</pre><b>In a Jupyter environment, please rerun this cell to show the HTML representation or trust the notebook. <br />On GitHub, the HTML representation is unable to render, please try loading this page with nbviewer.org.</b></div><div class=\"sk-container\" hidden><div class=\"sk-item\"><div class=\"sk-estimator sk-toggleable\"><input class=\"sk-toggleable__control sk-hidden--visually\" id=\"sk-estimator-id-5\" type=\"checkbox\" checked><label for=\"sk-estimator-id-5\" class=\"sk-toggleable__label sk-toggleable__label-arrow\">RandomForestClassifier</label><div class=\"sk-toggleable__content\"><pre>RandomForestClassifier(criterion=&#x27;entropy&#x27;, n_estimators=10)</pre></div></div></div></div></div>"
      ],
      "text/plain": [
       "RandomForestClassifier(criterion='entropy', n_estimators=10)"
      ]
     },
     "execution_count": 109,
     "metadata": {},
     "output_type": "execute_result"
    }
   ],
   "source": [
    "from sklearn.ensemble import RandomForestClassifier\n",
    "model6 = RandomForestClassifier(n_estimators = 10, criterion = 'entropy')\n",
    "model6.fit(x_train,y_train)"
   ]
  },
  {
   "cell_type": "code",
   "execution_count": 110,
   "id": "c7664489",
   "metadata": {},
   "outputs": [],
   "source": [
    "y_pred = model6.predict(x_test)"
   ]
  },
  {
   "cell_type": "code",
   "execution_count": 111,
   "id": "b45fdc94",
   "metadata": {},
   "outputs": [
    {
     "data": {
      "text/plain": [
       "array([11434,   100,  1049, 10485], dtype=int64)"
      ]
     },
     "execution_count": 111,
     "metadata": {},
     "output_type": "execute_result"
    }
   ],
   "source": [
    "cm6 = confusion_matrix(y_test,y_pred)\n",
    "cm6.ravel()"
   ]
  },
  {
   "cell_type": "code",
   "execution_count": 112,
   "id": "14673825",
   "metadata": {},
   "outputs": [],
   "source": [
    "# Log_loss Score\n",
    "logloss6 = log_loss(y_test, y_pred)                        "
   ]
  },
  {
   "cell_type": "code",
   "execution_count": 113,
   "id": "a09d5e08",
   "metadata": {},
   "outputs": [],
   "source": [
    "# Accuracy Score\n",
    "ac6 = accuracy_score(y_test, y_pred)"
   ]
  },
  {
   "cell_type": "code",
   "execution_count": 114,
   "id": "194339da",
   "metadata": {},
   "outputs": [],
   "source": [
    "# Precision Score\n",
    "precision_positive6 = metrics.precision_score(y_test, y_pred, pos_label = 1)  \n",
    "precision_negative6 = metrics.precision_score(y_test, y_pred, pos_label = 0)"
   ]
  },
  {
   "cell_type": "code",
   "execution_count": 115,
   "id": "81d3347b",
   "metadata": {},
   "outputs": [],
   "source": [
    "# Recall_Score\n",
    "recall_sensitivity6 = metrics.recall_score(y_test, y_pred, pos_label = 1)  \n",
    "recall_specificity6 = metrics.recall_score(y_test, y_pred, pos_label = 0)"
   ]
  },
  {
   "cell_type": "code",
   "execution_count": 116,
   "id": "ef1ce68a",
   "metadata": {},
   "outputs": [],
   "source": [
    " # f1_Score\n",
    "f1_positive6 = metrics.f1_score(y_test, y_pred, pos_label = 1)           \n",
    "f1_negative6 = metrics.f1_score(y_test, y_pred, pos_label = 0)"
   ]
  },
  {
   "cell_type": "markdown",
   "id": "d6c55bf3",
   "metadata": {},
   "source": [
    "###### For ROC and AUC"
   ]
  },
  {
   "cell_type": "code",
   "execution_count": 117,
   "id": "e17f8751",
   "metadata": {},
   "outputs": [],
   "source": [
    "# calculate the fpr and tpr for all thresholds of the classification\n",
    "probs = model6.predict_proba(x_test)\n",
    "preds = probs[:,1]\n",
    "fpr, tpr, threshold = metrics.roc_curve(y_test, preds)\n",
    "roc_auc = metrics.auc(fpr, tpr)"
   ]
  },
  {
   "cell_type": "code",
   "execution_count": 118,
   "id": "061522e4",
   "metadata": {},
   "outputs": [
    {
     "data": {
      "image/png": "[encoded data removed]",
      "text/plain": [
       "<Figure size 600x400 with 1 Axes>"
      ]
     },
     "metadata": {},
     "output_type": "display_data"
    }
   ],
   "source": [
    "import matplotlib.pyplot as plt\n",
    "plt.figure(figsize=(6,4))\n",
    "plt.title('Receiver Operating Characteristic')\n",
    "plt.plot(fpr, tpr, 'b', label = 'AUC = %0.2f' % roc_auc)\n",
    "plt.legend(loc = 'lower right')\n",
    "plt.plot([0, 1], [0, 1],'r--')\n",
    "plt.xlim([0, 1])\n",
    "plt.ylim([0, 1])\n",
    "plt.ylabel('True Positive Rate')\n",
    "plt.xlabel('False Positive Rate')\n",
    "plt.show()"
   ]
  },
  {
   "cell_type": "code",
   "execution_count": 119,
   "id": "6ed8abc8",
   "metadata": {},
   "outputs": [],
   "source": [
    "# auc Score\n",
    "auc_score6 = roc_auc_score(y_test, preds)"
   ]
  },
  {
   "cell_type": "markdown",
   "id": "9bb08602",
   "metadata": {},
   "source": [
    "### 7.XGBoost Classifier"
   ]
  },
  {
   "cell_type": "code",
   "execution_count": 120,
   "id": "33fb93fe",
   "metadata": {},
   "outputs": [],
   "source": [
    "from xgboost import XGBClassifier\n",
    "model7 = XGBClassifier()"
   ]
  },
  {
   "cell_type": "code",
   "execution_count": 121,
   "id": "043bbe7d",
   "metadata": {},
   "outputs": [
    {
     "data": {
      "text/html": [
       "<style>#sk-container-id-6 {color: black;background-color: white;}#sk-container-id-6 pre{padding: 0;}#sk-container-id-6 div.sk-toggleable {background-color: white;}#sk-container-id-6 label.sk-toggleable__label {cursor: pointer;display: block;width: 100%;margin-bottom: 0;padding: 0.3em;box-sizing: border-box;text-align: center;}#sk-container-id-6 label.sk-toggleable__label-arrow:before {content: \"▸\";float: left;margin-right: 0.25em;color: #696969;}#sk-container-id-6 label.sk-toggleable__label-arrow:hover:before {color: black;}#sk-container-id-6 div.sk-estimator:hover label.sk-toggleable__label-arrow:before {color: black;}#sk-container-id-6 div.sk-toggleable__content {max-height: 0;max-width: 0;overflow: hidden;text-align: left;background-color: #f0f8ff;}#sk-container-id-6 div.sk-toggleable__content pre {margin: 0.2em;color: black;border-radius: 0.25em;background-color: #f0f8ff;}#sk-container-id-6 input.sk-toggleable__control:checked~div.sk-toggleable__content {max-height: 200px;max-width: 100%;overflow: auto;}#sk-container-id-6 input.sk-toggleable__control:checked~label.sk-toggleable__label-arrow:before {content: \"▾\";}#sk-container-id-6 div.sk-estimator input.sk-toggleable__control:checked~label.sk-toggleable__label {background-color: #d4ebff;}#sk-container-id-6 div.sk-label input.sk-toggleable__control:checked~label.sk-toggleable__label {background-color: #d4ebff;}#sk-container-id-6 input.sk-hidden--visually {border: 0;clip: rect(1px 1px 1px 1px);clip: rect(1px, 1px, 1px, 1px);height: 1px;margin: -1px;overflow: hidden;padding: 0;position: absolute;width: 1px;}#sk-container-id-6 div.sk-estimator {font-family: monospace;background-color: #f0f8ff;border: 1px dotted black;border-radius: 0.25em;box-sizing: border-box;margin-bottom: 0.5em;}#sk-container-id-6 div.sk-estimator:hover {background-color: #d4ebff;}#sk-container-id-6 div.sk-parallel-item::after {content: \"\";width: 100%;border-bottom: 1px solid gray;flex-grow: 1;}#sk-container-id-6 div.sk-label:hover label.sk-toggleable__label {background-color: #d4ebff;}#sk-container-id-6 div.sk-serial::before {content: \"\";position: absolute;border-left: 1px solid gray;box-sizing: border-box;top: 0;bottom: 0;left: 50%;z-index: 0;}#sk-container-id-6 div.sk-serial {display: flex;flex-direction: column;align-items: center;background-color: white;padding-right: 0.2em;padding-left: 0.2em;position: relative;}#sk-container-id-6 div.sk-item {position: relative;z-index: 1;}#sk-container-id-6 div.sk-parallel {display: flex;align-items: stretch;justify-content: center;background-color: white;position: relative;}#sk-container-id-6 div.sk-item::before, #sk-container-id-6 div.sk-parallel-item::before {content: \"\";position: absolute;border-left: 1px solid gray;box-sizing: border-box;top: 0;bottom: 0;left: 50%;z-index: -1;}#sk-container-id-6 div.sk-parallel-item {display: flex;flex-direction: column;z-index: 1;position: relative;background-color: white;}#sk-container-id-6 div.sk-parallel-item:first-child::after {align-self: flex-end;width: 50%;}#sk-container-id-6 div.sk-parallel-item:last-child::after {align-self: flex-start;width: 50%;}#sk-container-id-6 div.sk-parallel-item:only-child::after {width: 0;}#sk-container-id-6 div.sk-dashed-wrapped {border: 1px dashed gray;margin: 0 0.4em 0.5em 0.4em;box-sizing: border-box;padding-bottom: 0.4em;background-color: white;}#sk-container-id-6 div.sk-label label {font-family: monospace;font-weight: bold;display: inline-block;line-height: 1.2em;}#sk-container-id-6 div.sk-label-container {text-align: center;}#sk-container-id-6 div.sk-container {/* jupyter's `normalize.less` sets `[hidden] { display: none; }` but bootstrap.min.css set `[hidden] { display: none !important; }` so we also need the `!important` here to be able to override the default hidden behavior on the sphinx rendered scikit-learn.org. See: https://github.com/scikit-learn/scikit-learn/issues/21755 */display: inline-block !important;position: relative;}#sk-container-id-6 div.sk-text-repr-fallback {display: none;}</style><div id=\"sk-container-id-6\" class=\"sk-top-container\"><div class=\"sk-text-repr-fallback\"><pre>XGBClassifier(base_score=None, booster=None, callbacks=None,\n",
       "              colsample_bylevel=None, colsample_bynode=None,\n",
       "              colsample_bytree=None, early_stopping_rounds=None,\n",
       "              enable_categorical=False, eval_metric=None, feature_types=None,\n",
       "              gamma=None, gpu_id=None, grow_policy=None, importance_type=None,\n",
       "              interaction_constraints=None, learning_rate=None, max_bin=None,\n",
       "              max_cat_threshold=None, max_cat_to_onehot=None,\n",
       "              max_delta_step=None, max_depth=None, max_leaves=None,\n",
       "              min_child_weight=None, missing=nan, monotone_constraints=None,\n",
       "              n_estimators=100, n_jobs=None, num_parallel_tree=None,\n",
       "              predictor=None, random_state=None, ...)</pre><b>In a Jupyter environment, please rerun this cell to show the HTML representation or trust the notebook. <br />On GitHub, the HTML representation is unable to render, please try loading this page with nbviewer.org.</b></div><div class=\"sk-container\" hidden><div class=\"sk-item\"><div class=\"sk-estimator sk-toggleable\"><input class=\"sk-toggleable__control sk-hidden--visually\" id=\"sk-estimator-id-6\" type=\"checkbox\" checked><label for=\"sk-estimator-id-6\" class=\"sk-toggleable__label sk-toggleable__label-arrow\">XGBClassifier</label><div class=\"sk-toggleable__content\"><pre>XGBClassifier(base_score=None, booster=None, callbacks=None,\n",
       "              colsample_bylevel=None, colsample_bynode=None,\n",
       "              colsample_bytree=None, early_stopping_rounds=None,\n",
       "              enable_categorical=False, eval_metric=None, feature_types=None,\n",
       "              gamma=None, gpu_id=None, grow_policy=None, importance_type=None,\n",
       "              interaction_constraints=None, learning_rate=None, max_bin=None,\n",
       "              max_cat_threshold=None, max_cat_to_onehot=None,\n",
       "              max_delta_step=None, max_depth=None, max_leaves=None,\n",
       "              min_child_weight=None, missing=nan, monotone_constraints=None,\n",
       "              n_estimators=100, n_jobs=None, num_parallel_tree=None,\n",
       "              predictor=None, random_state=None, ...)</pre></div></div></div></div></div>"
      ],
      "text/plain": [
       "XGBClassifier(base_score=None, booster=None, callbacks=None,\n",
       "              colsample_bylevel=None, colsample_bynode=None,\n",
       "              colsample_bytree=None, early_stopping_rounds=None,\n",
       "              enable_categorical=False, eval_metric=None, feature_types=None,\n",
       "              gamma=None, gpu_id=None, grow_policy=None, importance_type=None,\n",
       "              interaction_constraints=None, learning_rate=None, max_bin=None,\n",
       "              max_cat_threshold=None, max_cat_to_onehot=None,\n",
       "              max_delta_step=None, max_depth=None, max_leaves=None,\n",
       "              min_child_weight=None, missing=nan, monotone_constraints=None,\n",
       "              n_estimators=100, n_jobs=None, num_parallel_tree=None,\n",
       "              predictor=None, random_state=None, ...)"
      ]
     },
     "execution_count": 121,
     "metadata": {},
     "output_type": "execute_result"
    }
   ],
   "source": [
    "model7.fit(x_train, y_train)"
   ]
  },
  {
   "cell_type": "code",
   "execution_count": 122,
   "id": "92b4d692",
   "metadata": {},
   "outputs": [],
   "source": [
    "y_pred = model7.predict(x_test)"
   ]
  },
  {
   "cell_type": "code",
   "execution_count": 123,
   "id": "29af746f",
   "metadata": {},
   "outputs": [],
   "source": [
    "# Confusin Matrix\n",
    "cm7 = confusion_matrix(y_test,y_pred)"
   ]
  },
  {
   "cell_type": "code",
   "execution_count": 124,
   "id": "2b2b5e81",
   "metadata": {},
   "outputs": [],
   "source": [
    "# Log_loss Score\n",
    "logloss7 = log_loss(y_test, y_pred)                        "
   ]
  },
  {
   "cell_type": "code",
   "execution_count": 125,
   "id": "76a74e00",
   "metadata": {},
   "outputs": [],
   "source": [
    "# Accuracy Score\n",
    "ac7 = accuracy_score(y_test, y_pred)"
   ]
  },
  {
   "cell_type": "code",
   "execution_count": 126,
   "id": "8be99d6c",
   "metadata": {},
   "outputs": [],
   "source": [
    "# Precision Score\n",
    "precision_positive7 = metrics.precision_score(y_test, y_pred, pos_label = 1)  \n",
    "precision_negative7 = metrics.precision_score(y_test, y_pred, pos_label = 0)"
   ]
  },
  {
   "cell_type": "code",
   "execution_count": 127,
   "id": "82309df9",
   "metadata": {},
   "outputs": [],
   "source": [
    "# Recall_Score\n",
    "recall_sensitivity7 = metrics.recall_score(y_test, y_pred, pos_label = 1)  \n",
    "recall_specificity7 = metrics.recall_score(y_test, y_pred, pos_label = 0)"
   ]
  },
  {
   "cell_type": "code",
   "execution_count": 128,
   "id": "87ab356b",
   "metadata": {},
   "outputs": [],
   "source": [
    " # f1_Score\n",
    "f1_positive7 = metrics.f1_score(y_test, y_pred, pos_label = 1)           \n",
    "f1_negative7 = metrics.f1_score(y_test, y_pred, pos_label = 0)"
   ]
  },
  {
   "cell_type": "markdown",
   "id": "703dfa79",
   "metadata": {},
   "source": [
    "###### For ROC and AUC"
   ]
  },
  {
   "cell_type": "code",
   "execution_count": 129,
   "id": "ad6af69d",
   "metadata": {},
   "outputs": [],
   "source": [
    "# calculate the fpr and tpr for all thresholds of the classification\n",
    "probs = model7.predict_proba(x_test)\n",
    "preds = probs[:,1]\n",
    "fpr, tpr, threshold = metrics.roc_curve(y_test, preds)\n",
    "roc_auc = metrics.auc(fpr, tpr)"
   ]
  },
  {
   "cell_type": "code",
   "execution_count": 130,
   "id": "0646f00a",
   "metadata": {},
   "outputs": [
    {
     "data": {
      "image/png": "[encoded data removed]",
      "text/plain": [
       "<Figure size 600x400 with 1 Axes>"
      ]
     },
     "metadata": {},
     "output_type": "display_data"
    }
   ],
   "source": [
    "import matplotlib.pyplot as plt\n",
    "plt.figure(figsize=(6,4))\n",
    "plt.title('Receiver Operating Characteristic')\n",
    "plt.plot(fpr, tpr, 'b', label = 'AUC = %0.2f' % roc_auc)\n",
    "plt.legend(loc = 'lower right')\n",
    "plt.plot([0, 1], [0, 1],'r--')\n",
    "plt.xlim([0, 1])\n",
    "plt.ylim([0, 1])\n",
    "plt.ylabel('True Positive Rate')\n",
    "plt.xlabel('False Positive Rate')\n",
    "plt.show()"
   ]
  },
  {
   "cell_type": "code",
   "execution_count": 131,
   "id": "c157d92b",
   "metadata": {},
   "outputs": [],
   "source": [
    "# auc Score\n",
    "auc_score7 = roc_auc_score(y_test, preds)"
   ]
  },
  {
   "cell_type": "markdown",
   "id": "6a6adb68",
   "metadata": {},
   "source": [
    "### Cross Validation of All models"
   ]
  },
  {
   "cell_type": "markdown",
   "id": "c6bb8fc7",
   "metadata": {},
   "source": [
    "#### Stratified-k-fold Cross-Validation approach\n",
    "Stratified k-fold cross-validation is a widely used technique in machine learning to evaluate the performance of a model. It is an extension of the k-fold cross-validation method and is particularly useful when dealing with imbalanced datasets, where the distribution of target variables is uneven."
   ]
  },
  {
   "cell_type": "markdown",
   "id": "757fd009",
   "metadata": {},
   "source": [
    "#### CV_for_Logistic Regression"
   ]
  },
  {
   "cell_type": "code",
   "execution_count": 132,
   "id": "8842a2ce",
   "metadata": {},
   "outputs": [],
   "source": [
    "from sklearn.model_selection import StratifiedKFold\n",
    "from sklearn.model_selection import cross_val_score"
   ]
  },
  {
   "cell_type": "code",
   "execution_count": 133,
   "id": "c21afdce",
   "metadata": {},
   "outputs": [],
   "source": [
    "skfold = StratifiedKFold(n_splits=5)"
   ]
  },
  {
   "cell_type": "code",
   "execution_count": 134,
   "id": "d9947513",
   "metadata": {},
   "outputs": [],
   "source": [
    "model1 = LogisticRegression(solver = 'lbfgs', random_state = 0)"
   ]
  },
  {
   "cell_type": "code",
   "execution_count": 135,
   "id": "2fbfb749",
   "metadata": {},
   "outputs": [],
   "source": [
    "scores1 = cross_val_score(model1,dummy_df,rep_nan[\"status\"],cv=skfold)"
   ]
  },
  {
   "cell_type": "markdown",
   "id": "a2f41868",
   "metadata": {},
   "source": [
    "#### CV_for_KNN_Classifier"
   ]
  },
  {
   "cell_type": "code",
   "execution_count": 136,
   "id": "b8883942",
   "metadata": {},
   "outputs": [],
   "source": [
    "model2 = KNeighborsClassifier(n_neighbors = 11)"
   ]
  },
  {
   "cell_type": "code",
   "execution_count": 137,
   "id": "526954c5",
   "metadata": {},
   "outputs": [],
   "source": [
    "scores2 = cross_val_score(model2,dummy_df,rep_nan[\"status\"],cv=skfold)"
   ]
  },
  {
   "cell_type": "markdown",
   "id": "39222f36",
   "metadata": {},
   "source": [
    "#### CV_for_Naive_Bayes_Classifier"
   ]
  },
  {
   "cell_type": "code",
   "execution_count": 138,
   "id": "0f98242b",
   "metadata": {},
   "outputs": [],
   "source": [
    "model3 = GaussianNB()"
   ]
  },
  {
   "cell_type": "code",
   "execution_count": 139,
   "id": "fb1982d9",
   "metadata": {},
   "outputs": [],
   "source": [
    "scores3 = cross_val_score(model3,dummy_df,rep_nan[\"status\"],cv=skfold)"
   ]
  },
  {
   "cell_type": "markdown",
   "id": "49e350d6",
   "metadata": {},
   "source": [
    "#### CV_for_SVM_Classifier"
   ]
  },
  {
   "cell_type": "code",
   "execution_count": 140,
   "id": "78f90bfc",
   "metadata": {},
   "outputs": [],
   "source": [
    "model4 = SVC(kernel = 'rbf')"
   ]
  },
  {
   "cell_type": "code",
   "execution_count": 141,
   "id": "ae7b8a81",
   "metadata": {},
   "outputs": [],
   "source": [
    "scores4 = cross_val_score(model5,dummy_df,rep_nan[\"status\"],cv=skfold)"
   ]
  },
  {
   "cell_type": "markdown",
   "id": "c15e4b2c",
   "metadata": {},
   "source": [
    "#### CV_for_Decision_Tree_Classifier"
   ]
  },
  {
   "cell_type": "code",
   "execution_count": 142,
   "id": "47bd5c9d",
   "metadata": {},
   "outputs": [],
   "source": [
    "model5 = DecisionTreeClassifier(criterion = 'entropy')"
   ]
  },
  {
   "cell_type": "code",
   "execution_count": 143,
   "id": "386e4302",
   "metadata": {},
   "outputs": [],
   "source": [
    "scores5 = cross_val_score(model5,dummy_df,rep_nan[\"status\"],cv=skfold)"
   ]
  },
  {
   "cell_type": "markdown",
   "id": "2407571f",
   "metadata": {},
   "source": [
    "#### CV_for_Random_Forest_Classifier"
   ]
  },
  {
   "cell_type": "code",
   "execution_count": 144,
   "id": "466c507f",
   "metadata": {},
   "outputs": [],
   "source": [
    "model6 = RandomForestClassifier(n_estimators = 10, criterion = 'entropy')"
   ]
  },
  {
   "cell_type": "code",
   "execution_count": 145,
   "id": "76374e13",
   "metadata": {},
   "outputs": [],
   "source": [
    "scores6 = cross_val_score(model6,dummy_df,rep_nan[\"status\"],cv=skfold)"
   ]
  },
  {
   "cell_type": "markdown",
   "id": "e1ac9fe6",
   "metadata": {},
   "source": [
    "#### CV_for_XGB_Classifier"
   ]
  },
  {
   "cell_type": "code",
   "execution_count": 146,
   "id": "ff8d078b",
   "metadata": {},
   "outputs": [],
   "source": [
    "model7 = XGBClassifier()"
   ]
  },
  {
   "cell_type": "code",
   "execution_count": 147,
   "id": "539aa497",
   "metadata": {},
   "outputs": [],
   "source": [
    "scores7 = cross_val_score(model7,dummy_df,rep_nan[\"status\"],cv=skfold)"
   ]
  },
  {
   "cell_type": "markdown",
   "id": "c6152a1e",
   "metadata": {},
   "source": [
    "## Display of Model's Scores"
   ]
  },
  {
   "cell_type": "code",
   "execution_count": 148,
   "id": "4dd64740",
   "metadata": {},
   "outputs": [],
   "source": [
    "data = {\"Accuracy_Score\":[ac1,ac2,ac3,ac4,ac5,ac6,ac7],\n",
    "        \"log_loss_Score\":[logloss1,logloss2,logloss3,logloss4,logloss5,logloss6,logloss7],\n",
    "        \"F1_Score_Positive\":[f1_positive1,f1_positive2,f1_positive3,f1_positive4,f1_positive5,f1_positive6,f1_positive7],\n",
    "        \"F1_Score_Nagative\":[f1_negative1,f1_negative2,f1_negative3,f1_negative4,f1_negative5,f1_negative6,f1_negative7],\n",
    "        \"Precision_Positive\":[precision_positive1,precision_positive2,precision_positive3,precision_positive4,precision_positive5,precision_positive6,precision_positive7],\n",
    "        \"Precision_Nagative\":[precision_negative1,precision_negative2,precision_negative3,precision_negative4,precision_negative5,precision_negative6,precision_negative7],\n",
    "        \"Recall_sensitivity\":[recall_sensitivity1,recall_sensitivity2,recall_sensitivity3,recall_sensitivity4,recall_sensitivity5,recall_sensitivity6,recall_sensitivity7],\n",
    "        \"Recall_specificity\":[recall_specificity1,recall_specificity2,recall_specificity3,recall_specificity4,recall_specificity5,recall_specificity6,recall_specificity7],\n",
    "        \"AUC_Score\":[auc_score1,auc_score2,auc_score3,auc_score4,auc_score5,auc_score6,auc_score7]}\n",
    "All_scores = pd.DataFrame(data, index = [\"LR\",\"KNN\",\"NB\",\"SVM\",\"DT\",\"RF\",\"XGB\"])"
   ]
  },
  {
   "cell_type": "code",
   "execution_count": 149,
   "id": "44c5b8fb",
   "metadata": {},
   "outputs": [
    {
     "data": {
      "text/html": [
       "<div>\n",
       "<style scoped>\n",
       "    .dataframe tbody tr th:only-of-type {\n",
       "        vertical-align: middle;\n",
       "    }\n",
       "\n",
       "    .dataframe tbody tr th {\n",
       "        vertical-align: top;\n",
       "    }\n",
       "\n",
       "    .dataframe thead th {\n",
       "        text-align: right;\n",
       "    }\n",
       "</style>\n",
       "<table border=\"1\" class=\"dataframe\">\n",
       "  <thead>\n",
       "    <tr style=\"text-align: right;\">\n",
       "      <th></th>\n",
       "      <th>Accuracy_Score</th>\n",
       "      <th>log_loss_Score</th>\n",
       "      <th>F1_Score_Positive</th>\n",
       "      <th>F1_Score_Nagative</th>\n",
       "      <th>Precision_Positive</th>\n",
       "      <th>Precision_Nagative</th>\n",
       "      <th>Recall_sensitivity</th>\n",
       "      <th>Recall_specificity</th>\n",
       "      <th>AUC_Score</th>\n",
       "    </tr>\n",
       "  </thead>\n",
       "  <tbody>\n",
       "    <tr>\n",
       "      <th>LR</th>\n",
       "      <td>0.970435</td>\n",
       "      <td>1.065622</td>\n",
       "      <td>0.969855</td>\n",
       "      <td>0.970994</td>\n",
       "      <td>0.989270</td>\n",
       "      <td>0.952997</td>\n",
       "      <td>0.951188</td>\n",
       "      <td>0.989683</td>\n",
       "      <td>0.976832</td>\n",
       "    </tr>\n",
       "    <tr>\n",
       "      <th>KNN</th>\n",
       "      <td>0.950971</td>\n",
       "      <td>1.767183</td>\n",
       "      <td>0.948775</td>\n",
       "      <td>0.952987</td>\n",
       "      <td>0.993267</td>\n",
       "      <td>0.915356</td>\n",
       "      <td>0.908098</td>\n",
       "      <td>0.993844</td>\n",
       "      <td>0.989267</td>\n",
       "    </tr>\n",
       "    <tr>\n",
       "      <th>NB</th>\n",
       "      <td>0.845587</td>\n",
       "      <td>5.565610</td>\n",
       "      <td>0.836979</td>\n",
       "      <td>0.853331</td>\n",
       "      <td>0.886390</td>\n",
       "      <td>0.812578</td>\n",
       "      <td>0.792787</td>\n",
       "      <td>0.898387</td>\n",
       "      <td>0.845587</td>\n",
       "    </tr>\n",
       "    <tr>\n",
       "      <th>SVM</th>\n",
       "      <td>0.938573</td>\n",
       "      <td>2.214057</td>\n",
       "      <td>0.934553</td>\n",
       "      <td>0.942128</td>\n",
       "      <td>1.000000</td>\n",
       "      <td>0.890588</td>\n",
       "      <td>0.877146</td>\n",
       "      <td>1.000000</td>\n",
       "      <td>0.998889</td>\n",
       "    </tr>\n",
       "    <tr>\n",
       "      <th>DT</th>\n",
       "      <td>0.957213</td>\n",
       "      <td>1.542183</td>\n",
       "      <td>0.955991</td>\n",
       "      <td>0.958370</td>\n",
       "      <td>0.984118</td>\n",
       "      <td>0.933142</td>\n",
       "      <td>0.929426</td>\n",
       "      <td>0.985001</td>\n",
       "      <td>0.957378</td>\n",
       "    </tr>\n",
       "    <tr>\n",
       "      <th>RF</th>\n",
       "      <td>0.950191</td>\n",
       "      <td>1.795308</td>\n",
       "      <td>0.948054</td>\n",
       "      <td>0.952159</td>\n",
       "      <td>0.990553</td>\n",
       "      <td>0.915966</td>\n",
       "      <td>0.909051</td>\n",
       "      <td>0.991330</td>\n",
       "      <td>0.993956</td>\n",
       "    </tr>\n",
       "    <tr>\n",
       "      <th>XGB</th>\n",
       "      <td>0.979756</td>\n",
       "      <td>0.729686</td>\n",
       "      <td>0.979910</td>\n",
       "      <td>0.979599</td>\n",
       "      <td>0.972504</td>\n",
       "      <td>0.987233</td>\n",
       "      <td>0.987428</td>\n",
       "      <td>0.972083</td>\n",
       "      <td>0.997515</td>\n",
       "    </tr>\n",
       "  </tbody>\n",
       "</table>\n",
       "</div>"
      ],
      "text/plain": [
       "     Accuracy_Score  log_loss_Score  F1_Score_Positive  F1_Score_Nagative  \\\n",
       "LR         0.970435        1.065622           0.969855           0.970994   \n",
       "KNN        0.950971        1.767183           0.948775           0.952987   \n",
       "NB         0.845587        5.565610           0.836979           0.853331   \n",
       "SVM        0.938573        2.214057           0.934553           0.942128   \n",
       "DT         0.957213        1.542183           0.955991           0.958370   \n",
       "RF         0.950191        1.795308           0.948054           0.952159   \n",
       "XGB        0.979756        0.729686           0.979910           0.979599   \n",
       "\n",
       "     Precision_Positive  Precision_Nagative  Recall_sensitivity  \\\n",
       "LR             0.989270            0.952997            0.951188   \n",
       "KNN            0.993267            0.915356            0.908098   \n",
       "NB             0.886390            0.812578            0.792787   \n",
       "SVM            1.000000            0.890588            0.877146   \n",
       "DT             0.984118            0.933142            0.929426   \n",
       "RF             0.990553            0.915966            0.909051   \n",
       "XGB            0.972504            0.987233            0.987428   \n",
       "\n",
       "     Recall_specificity  AUC_Score  \n",
       "LR             0.989683   0.976832  \n",
       "KNN            0.993844   0.989267  \n",
       "NB             0.898387   0.845587  \n",
       "SVM            1.000000   0.998889  \n",
       "DT             0.985001   0.957378  \n",
       "RF             0.991330   0.993956  \n",
       "XGB            0.972083   0.997515  "
      ]
     },
     "execution_count": 149,
     "metadata": {},
     "output_type": "execute_result"
    }
   ],
   "source": [
    "All_scores"
   ]
  },
  {
   "cell_type": "markdown",
   "id": "cb523395",
   "metadata": {},
   "source": [
    "## Display of Cross Validation Scores"
   ]
  },
  {
   "cell_type": "code",
   "execution_count": 150,
   "id": "bd87745b",
   "metadata": {},
   "outputs": [],
   "source": [
    "data1 = {\"Mean_CV_Scores\":[np.mean(scores1),np.mean(scores2),np.mean(scores3),np.mean(scores4),np.mean(scores5),np.mean(scores6),np.mean(scores7)]}\n",
    "Cross_Val_scores = pd.DataFrame(data1, index = [\"LR\",\"KNN\",\"NB\",\"SVM\",\"DT\",\"RF\",\"XGB\"])"
   ]
  },
  {
   "cell_type": "code",
   "execution_count": 151,
   "id": "f4376f2f",
   "metadata": {},
   "outputs": [
    {
     "data": {
      "text/html": [
       "<div>\n",
       "<style scoped>\n",
       "    .dataframe tbody tr th:only-of-type {\n",
       "        vertical-align: middle;\n",
       "    }\n",
       "\n",
       "    .dataframe tbody tr th {\n",
       "        vertical-align: top;\n",
       "    }\n",
       "\n",
       "    .dataframe thead th {\n",
       "        text-align: right;\n",
       "    }\n",
       "</style>\n",
       "<table border=\"1\" class=\"dataframe\">\n",
       "  <thead>\n",
       "    <tr style=\"text-align: right;\">\n",
       "      <th></th>\n",
       "      <th>Mean_CV_Scores</th>\n",
       "    </tr>\n",
       "  </thead>\n",
       "  <tbody>\n",
       "    <tr>\n",
       "      <th>LR</th>\n",
       "      <td>0.982066</td>\n",
       "    </tr>\n",
       "    <tr>\n",
       "      <th>KNN</th>\n",
       "      <td>0.954246</td>\n",
       "    </tr>\n",
       "    <tr>\n",
       "      <th>NB</th>\n",
       "      <td>0.883235</td>\n",
       "    </tr>\n",
       "    <tr>\n",
       "      <th>SVM</th>\n",
       "      <td>0.975419</td>\n",
       "    </tr>\n",
       "    <tr>\n",
       "      <th>DT</th>\n",
       "      <td>0.975347</td>\n",
       "    </tr>\n",
       "    <tr>\n",
       "      <th>RF</th>\n",
       "      <td>0.961957</td>\n",
       "    </tr>\n",
       "    <tr>\n",
       "      <th>XGB</th>\n",
       "      <td>0.981848</td>\n",
       "    </tr>\n",
       "  </tbody>\n",
       "</table>\n",
       "</div>"
      ],
      "text/plain": [
       "     Mean_CV_Scores\n",
       "LR         0.982066\n",
       "KNN        0.954246\n",
       "NB         0.883235\n",
       "SVM        0.975419\n",
       "DT         0.975347\n",
       "RF         0.961957\n",
       "XGB        0.981848"
      ]
     },
     "execution_count": 151,
     "metadata": {},
     "output_type": "execute_result"
    }
   ],
   "source": [
    "Cross_Val_scores"
   ]
  },
  {
   "cell_type": "markdown",
   "id": "360bf559",
   "metadata": {},
   "source": [
    "### Conclusion:"
   ]
  },
  {
   "cell_type": "markdown",
   "id": "bfaaee08",
   "metadata": {},
   "source": [
    "1.\tThe leads with STATUS other than ‘WON’ or ‘LOST’ dropped during training.\n",
    "\n",
    "2.\tAll categorical column treated as categorical column except “Status”, this is because XGBoost model doesn’t accept categorical targe. So that, status has converted into binary format.Here 0 represents Lost and 1 represents won.\n",
    "\n",
    "3.\tThe values in the data frame are converted to lower case. It has following benefits:\n",
    "\n",
    "    a.\tConsistency: Converting all letters to lowercase ensures that all text is consistent, which can help prevent errors and improve the accuracy of the analysis.\n",
    "    \n",
    "    b.\tNormalization: Converting all letters to lowercase can help normalize the text and remove any variations in capitalization that may be present. This can help ensure that the analysis is based on the content of the text, rather than superficial features like capitalization.\n",
    "    \n",
    "    c.\tReduction of vocabulary size: By converting all letters to lowercase, the number of unique words in the text can be reduced. This can help simplify the analysis and make it more efficient.\n",
    "    \n",
    "    d.\tImproved generalization: Converting all letters to lowercase can help the model generalize better to new data. Since the model will not be biased towards certain capitalizations, it will be better able to recognize patterns and make accurate predictions on new data.\n",
    "    \n",
    "4.\tAll Special Characters are removed from the dataset.  Removing Special characters will help in: \n",
    "    \n",
    "    a.\tNoise reduction: Special characters can add noise to the text data and make it more difficult for the model to accurately classify or analyze the text.\n",
    "    \n",
    "    b.\tConsistency: Removing special characters can ensure that the text data is consistent, which can help prevent errors and improve the accuracy of the analysis.\n",
    "    \n",
    "    c.\tNormalization: Removing special characters can help normalize the text and remove any variations that may be present. This can help ensure that the analysis is based on the content of the text, rather than superficial features like special characters.\n",
    "    \n",
    "    d.\tReduction of vocabulary size: By removing special characters, the number of unique words in the text can be reduced. This can help simplify the analysis and make it more efficient.\n",
    "    e.\tImproved generalization: Removing special characters can help the model generalize better to new data. Since the model will not be biased towards certain special characters, it will be better able to recognize patterns and make accurate predictions on new data.\n",
    "    \n",
    "5.\tGiven string '9b2d5b4678781e53038e91ea5324530a03f27dc1d0e5f6c9bc9d493a23be9de0' is considered as NaN and it is replaced with mode of appropriate column wherein it is present.\n",
    "\n",
    "6.\tAll missing values are filled and replaced with mode and appropriate values.\n",
    "\n",
    "7.\tImbalanced data Identified for the target column and it is balanced using Synthetic Minority Oversampling Technique. It is a data augmentation technique that is commonly used to address the issue of imbalanced datasets.\n",
    "\n",
    "8.\tIn imbalanced datasets, the number of samples in the majority class (the class with the most samples) is much higher than the number of samples in the minority class (the class with the fewest samples). This can lead to biased models that are overly sensitive to the majority class and perform poorly on the minority class. SMOTE addresses this issue by generating synthetic examples of the minority class. It does this by identifying minority class samples that are similar to one another and then creating new synthetic samples in between them. These synthetic samples are then added to the dataset to balance the number of samples between the majority and minority classes. By using SMOTE, the imbalanced dataset can be transformed into a balanced dataset, which can help improve the accuracy of the machine learning model.\n",
    "\n",
    "9.\tTo convert the values into useful vectors pandas pd.get_dummies( ) method has been used. The get_dummies() function takes a pandas dataframe or series as input and returns a new dataframe with one-hot encoded columns. The function automatically determines the categorical variables in the input data and applies one-hot encoding to them. \n",
    "\n",
    "    Note : While get_dummies() is a convenient way to perform one-hot encoding, it does have some limitations. One limitation is that it may not work well with high-cardinality categorical variables (i.e., categorical variables with many unique values), as it can lead to a large number of new columns in the resulting dataframe. Another limitation is that it does not support sparse matrix representations, which may be important for memory efficiency when working with large datasets. In such cases, OneHotEncoder may be a better option.\n",
    "\n",
    "10.\tFor feature selection 4 methos has been chosen but, not used, because they takes more time.\n",
    "\n",
    "11.\tTrain test split has been performed with train test ratio 70:30.\n",
    "\n",
    "12.\tTrained the train data set and predicted the test data set with seven types of classifiers.\n",
    "\n",
    "13.\tCalculated evaluation metrics like Accuracy, F1, Precision, Recall AUC, ROC , Cross validation scores for all models separately.\n",
    "\n",
    "14.\tCross validation also has been done on the all models separately.\n",
    "\n",
    "15.\tAmon all the Classifiers XG_Boost classifier gave best results with F1_Score 0.97, Accuracy 0.97, Cross validation Score 0.98.\n",
    "\n",
    "16.\tAll the Score Reports has Framed at the end."
   ]
  },
  {
   "cell_type": "code",
   "execution_count": null,
   "id": "02409434",
   "metadata": {},
   "outputs": [],
   "source": []
  }
 ],
 "metadata": {
  "kernelspec": {
   "display_name": "Python 3 (ipykernel)",
   "language": "python",
   "name": "python3"
  },
  "language_info": {
   "codemirror_mode": {
    "name": "ipython",
    "version": 3
   },
   "file_extension": ".py",
   "mimetype": "text/x-python",
   "name": "python",
   "nbconvert_exporter": "python",
   "pygments_lexer": "ipython3",
   "version": "3.8.16"
  }
 },
 "nbformat": 4,
 "nbformat_minor": 5
}
